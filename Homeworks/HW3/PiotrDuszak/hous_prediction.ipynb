{
  "nbformat": 4,
  "nbformat_minor": 0,
  "metadata": {
    "colab": {
      "name": "WUM3.ipynb",
      "provenance": [],
      "collapsed_sections": []
    },
    "kernelspec": {
      "display_name": "Python 3",
      "name": "python3"
    },
    "language_info": {
      "name": "python"
    }
  },
  "cells": [
    {
      "cell_type": "markdown",
      "metadata": {
        "id": "N_YoPvY9j4GW"
      },
      "source": [
        "**Piotr Duszak - praca domowa 3 - wykorzystanie metody lime na przykładzie wyznaczania ceny domów**\n",
        "\n",
        "W niniejszym notebooku będzie testowana metoda lime do sprawdzenia, jak duży wpływ ma dana zmienna na predykcję modelu. Wykorzystano dane dotyczące nieruchomości (na wejściu są informacje takie jak liczba sypialni, liczba łazienek, metraż, współrzędne geograficzne, itp., a model ma przewidzieć jego cenę).\n",
        "\n",
        "Wykorzystano dwa modele. Jeden z nich to random forest (przy użyciu biblioteki sklearn), a drugi to maszyna wektorów nośnych (przy użyciu biblioteki sklearn).\n",
        "\n",
        "Fragmenty niedotyczące lime'a są w sporej mierze przekopiowane z mojej drugiej pracy domowej, ale dla spójności pracy tutaj również są zamieszczone."
      ]
    },
    {
      "cell_type": "markdown",
      "metadata": {
        "id": "J9Ss-UfH2DXS"
      },
      "source": [
        "# Wczytywanie danych"
      ]
    },
    {
      "cell_type": "code",
      "metadata": {
        "colab": {
          "base_uri": "https://localhost:8080/",
          "height": 609
        },
        "id": "G60Kq1wJiuBW",
        "outputId": "268c2e58-603d-4a48-876c-7d71ed58d750"
      },
      "source": [
        "import pandas as pd\n",
        "import numpy as np\n",
        "from datetime import datetime\n",
        "# Wczytanie danych\n",
        "hous_data = pd.read_csv('drive/MyDrive/kc_house_data.csv')\n",
        "# Zamiana daty ze stringa na datę\n",
        "hous_data['date'] = hous_data['date'].apply(lambda x: datetime.strptime(x, '%Y%m%dT%H%M%S').date())\n",
        "hous_data.columns = hous_data.columns.str.replace(' ', '_')\n",
        "hous_data"
      ],
      "execution_count": 86,
      "outputs": [
        {
          "output_type": "execute_result",
          "data": {
            "text/html": [
              "<div>\n",
              "<style scoped>\n",
              "    .dataframe tbody tr th:only-of-type {\n",
              "        vertical-align: middle;\n",
              "    }\n",
              "\n",
              "    .dataframe tbody tr th {\n",
              "        vertical-align: top;\n",
              "    }\n",
              "\n",
              "    .dataframe thead th {\n",
              "        text-align: right;\n",
              "    }\n",
              "</style>\n",
              "<table border=\"1\" class=\"dataframe\">\n",
              "  <thead>\n",
              "    <tr style=\"text-align: right;\">\n",
              "      <th></th>\n",
              "      <th>id</th>\n",
              "      <th>date</th>\n",
              "      <th>price</th>\n",
              "      <th>bedrooms</th>\n",
              "      <th>bathrooms</th>\n",
              "      <th>sqft_living</th>\n",
              "      <th>sqft_lot</th>\n",
              "      <th>floors</th>\n",
              "      <th>waterfront</th>\n",
              "      <th>view</th>\n",
              "      <th>condition</th>\n",
              "      <th>grade</th>\n",
              "      <th>sqft_above</th>\n",
              "      <th>sqft_basement</th>\n",
              "      <th>yr_built</th>\n",
              "      <th>yr_renovated</th>\n",
              "      <th>zipcode</th>\n",
              "      <th>lat</th>\n",
              "      <th>long</th>\n",
              "      <th>sqft_living15</th>\n",
              "      <th>sqft_lot15</th>\n",
              "    </tr>\n",
              "  </thead>\n",
              "  <tbody>\n",
              "    <tr>\n",
              "      <th>0</th>\n",
              "      <td>7129300520</td>\n",
              "      <td>2014-10-13</td>\n",
              "      <td>221900.0</td>\n",
              "      <td>3</td>\n",
              "      <td>1.00</td>\n",
              "      <td>1180</td>\n",
              "      <td>5650</td>\n",
              "      <td>1.0</td>\n",
              "      <td>0</td>\n",
              "      <td>0</td>\n",
              "      <td>3</td>\n",
              "      <td>7</td>\n",
              "      <td>1180</td>\n",
              "      <td>0</td>\n",
              "      <td>1955</td>\n",
              "      <td>0</td>\n",
              "      <td>98178</td>\n",
              "      <td>47.5112</td>\n",
              "      <td>-122.257</td>\n",
              "      <td>1340</td>\n",
              "      <td>5650</td>\n",
              "    </tr>\n",
              "    <tr>\n",
              "      <th>1</th>\n",
              "      <td>6414100192</td>\n",
              "      <td>2014-12-09</td>\n",
              "      <td>538000.0</td>\n",
              "      <td>3</td>\n",
              "      <td>2.25</td>\n",
              "      <td>2570</td>\n",
              "      <td>7242</td>\n",
              "      <td>2.0</td>\n",
              "      <td>0</td>\n",
              "      <td>0</td>\n",
              "      <td>3</td>\n",
              "      <td>7</td>\n",
              "      <td>2170</td>\n",
              "      <td>400</td>\n",
              "      <td>1951</td>\n",
              "      <td>1991</td>\n",
              "      <td>98125</td>\n",
              "      <td>47.7210</td>\n",
              "      <td>-122.319</td>\n",
              "      <td>1690</td>\n",
              "      <td>7639</td>\n",
              "    </tr>\n",
              "    <tr>\n",
              "      <th>2</th>\n",
              "      <td>5631500400</td>\n",
              "      <td>2015-02-25</td>\n",
              "      <td>180000.0</td>\n",
              "      <td>2</td>\n",
              "      <td>1.00</td>\n",
              "      <td>770</td>\n",
              "      <td>10000</td>\n",
              "      <td>1.0</td>\n",
              "      <td>0</td>\n",
              "      <td>0</td>\n",
              "      <td>3</td>\n",
              "      <td>6</td>\n",
              "      <td>770</td>\n",
              "      <td>0</td>\n",
              "      <td>1933</td>\n",
              "      <td>0</td>\n",
              "      <td>98028</td>\n",
              "      <td>47.7379</td>\n",
              "      <td>-122.233</td>\n",
              "      <td>2720</td>\n",
              "      <td>8062</td>\n",
              "    </tr>\n",
              "    <tr>\n",
              "      <th>3</th>\n",
              "      <td>2487200875</td>\n",
              "      <td>2014-12-09</td>\n",
              "      <td>604000.0</td>\n",
              "      <td>4</td>\n",
              "      <td>3.00</td>\n",
              "      <td>1960</td>\n",
              "      <td>5000</td>\n",
              "      <td>1.0</td>\n",
              "      <td>0</td>\n",
              "      <td>0</td>\n",
              "      <td>5</td>\n",
              "      <td>7</td>\n",
              "      <td>1050</td>\n",
              "      <td>910</td>\n",
              "      <td>1965</td>\n",
              "      <td>0</td>\n",
              "      <td>98136</td>\n",
              "      <td>47.5208</td>\n",
              "      <td>-122.393</td>\n",
              "      <td>1360</td>\n",
              "      <td>5000</td>\n",
              "    </tr>\n",
              "    <tr>\n",
              "      <th>4</th>\n",
              "      <td>1954400510</td>\n",
              "      <td>2015-02-18</td>\n",
              "      <td>510000.0</td>\n",
              "      <td>3</td>\n",
              "      <td>2.00</td>\n",
              "      <td>1680</td>\n",
              "      <td>8080</td>\n",
              "      <td>1.0</td>\n",
              "      <td>0</td>\n",
              "      <td>0</td>\n",
              "      <td>3</td>\n",
              "      <td>8</td>\n",
              "      <td>1680</td>\n",
              "      <td>0</td>\n",
              "      <td>1987</td>\n",
              "      <td>0</td>\n",
              "      <td>98074</td>\n",
              "      <td>47.6168</td>\n",
              "      <td>-122.045</td>\n",
              "      <td>1800</td>\n",
              "      <td>7503</td>\n",
              "    </tr>\n",
              "    <tr>\n",
              "      <th>...</th>\n",
              "      <td>...</td>\n",
              "      <td>...</td>\n",
              "      <td>...</td>\n",
              "      <td>...</td>\n",
              "      <td>...</td>\n",
              "      <td>...</td>\n",
              "      <td>...</td>\n",
              "      <td>...</td>\n",
              "      <td>...</td>\n",
              "      <td>...</td>\n",
              "      <td>...</td>\n",
              "      <td>...</td>\n",
              "      <td>...</td>\n",
              "      <td>...</td>\n",
              "      <td>...</td>\n",
              "      <td>...</td>\n",
              "      <td>...</td>\n",
              "      <td>...</td>\n",
              "      <td>...</td>\n",
              "      <td>...</td>\n",
              "      <td>...</td>\n",
              "    </tr>\n",
              "    <tr>\n",
              "      <th>21608</th>\n",
              "      <td>263000018</td>\n",
              "      <td>2014-05-21</td>\n",
              "      <td>360000.0</td>\n",
              "      <td>3</td>\n",
              "      <td>2.50</td>\n",
              "      <td>1530</td>\n",
              "      <td>1131</td>\n",
              "      <td>3.0</td>\n",
              "      <td>0</td>\n",
              "      <td>0</td>\n",
              "      <td>3</td>\n",
              "      <td>8</td>\n",
              "      <td>1530</td>\n",
              "      <td>0</td>\n",
              "      <td>2009</td>\n",
              "      <td>0</td>\n",
              "      <td>98103</td>\n",
              "      <td>47.6993</td>\n",
              "      <td>-122.346</td>\n",
              "      <td>1530</td>\n",
              "      <td>1509</td>\n",
              "    </tr>\n",
              "    <tr>\n",
              "      <th>21609</th>\n",
              "      <td>6600060120</td>\n",
              "      <td>2015-02-23</td>\n",
              "      <td>400000.0</td>\n",
              "      <td>4</td>\n",
              "      <td>2.50</td>\n",
              "      <td>2310</td>\n",
              "      <td>5813</td>\n",
              "      <td>2.0</td>\n",
              "      <td>0</td>\n",
              "      <td>0</td>\n",
              "      <td>3</td>\n",
              "      <td>8</td>\n",
              "      <td>2310</td>\n",
              "      <td>0</td>\n",
              "      <td>2014</td>\n",
              "      <td>0</td>\n",
              "      <td>98146</td>\n",
              "      <td>47.5107</td>\n",
              "      <td>-122.362</td>\n",
              "      <td>1830</td>\n",
              "      <td>7200</td>\n",
              "    </tr>\n",
              "    <tr>\n",
              "      <th>21610</th>\n",
              "      <td>1523300141</td>\n",
              "      <td>2014-06-23</td>\n",
              "      <td>402101.0</td>\n",
              "      <td>2</td>\n",
              "      <td>0.75</td>\n",
              "      <td>1020</td>\n",
              "      <td>1350</td>\n",
              "      <td>2.0</td>\n",
              "      <td>0</td>\n",
              "      <td>0</td>\n",
              "      <td>3</td>\n",
              "      <td>7</td>\n",
              "      <td>1020</td>\n",
              "      <td>0</td>\n",
              "      <td>2009</td>\n",
              "      <td>0</td>\n",
              "      <td>98144</td>\n",
              "      <td>47.5944</td>\n",
              "      <td>-122.299</td>\n",
              "      <td>1020</td>\n",
              "      <td>2007</td>\n",
              "    </tr>\n",
              "    <tr>\n",
              "      <th>21611</th>\n",
              "      <td>291310100</td>\n",
              "      <td>2015-01-16</td>\n",
              "      <td>400000.0</td>\n",
              "      <td>3</td>\n",
              "      <td>2.50</td>\n",
              "      <td>1600</td>\n",
              "      <td>2388</td>\n",
              "      <td>2.0</td>\n",
              "      <td>0</td>\n",
              "      <td>0</td>\n",
              "      <td>3</td>\n",
              "      <td>8</td>\n",
              "      <td>1600</td>\n",
              "      <td>0</td>\n",
              "      <td>2004</td>\n",
              "      <td>0</td>\n",
              "      <td>98027</td>\n",
              "      <td>47.5345</td>\n",
              "      <td>-122.069</td>\n",
              "      <td>1410</td>\n",
              "      <td>1287</td>\n",
              "    </tr>\n",
              "    <tr>\n",
              "      <th>21612</th>\n",
              "      <td>1523300157</td>\n",
              "      <td>2014-10-15</td>\n",
              "      <td>325000.0</td>\n",
              "      <td>2</td>\n",
              "      <td>0.75</td>\n",
              "      <td>1020</td>\n",
              "      <td>1076</td>\n",
              "      <td>2.0</td>\n",
              "      <td>0</td>\n",
              "      <td>0</td>\n",
              "      <td>3</td>\n",
              "      <td>7</td>\n",
              "      <td>1020</td>\n",
              "      <td>0</td>\n",
              "      <td>2008</td>\n",
              "      <td>0</td>\n",
              "      <td>98144</td>\n",
              "      <td>47.5941</td>\n",
              "      <td>-122.299</td>\n",
              "      <td>1020</td>\n",
              "      <td>1357</td>\n",
              "    </tr>\n",
              "  </tbody>\n",
              "</table>\n",
              "<p>21613 rows × 21 columns</p>\n",
              "</div>"
            ],
            "text/plain": [
              "               id        date     price  ...     long  sqft_living15  sqft_lot15\n",
              "0      7129300520  2014-10-13  221900.0  ... -122.257           1340        5650\n",
              "1      6414100192  2014-12-09  538000.0  ... -122.319           1690        7639\n",
              "2      5631500400  2015-02-25  180000.0  ... -122.233           2720        8062\n",
              "3      2487200875  2014-12-09  604000.0  ... -122.393           1360        5000\n",
              "4      1954400510  2015-02-18  510000.0  ... -122.045           1800        7503\n",
              "...           ...         ...       ...  ...      ...            ...         ...\n",
              "21608   263000018  2014-05-21  360000.0  ... -122.346           1530        1509\n",
              "21609  6600060120  2015-02-23  400000.0  ... -122.362           1830        7200\n",
              "21610  1523300141  2014-06-23  402101.0  ... -122.299           1020        2007\n",
              "21611   291310100  2015-01-16  400000.0  ... -122.069           1410        1287\n",
              "21612  1523300157  2014-10-15  325000.0  ... -122.299           1020        1357\n",
              "\n",
              "[21613 rows x 21 columns]"
            ]
          },
          "metadata": {
            "tags": []
          },
          "execution_count": 86
        }
      ]
    },
    {
      "cell_type": "markdown",
      "metadata": {
        "id": "hxAWovzCmDbF"
      },
      "source": [
        "Dane składają się z 21613 rekordów. W każdym są następujące informacje: \n",
        "* Id: unikalny identyfikator każdego sprzedanego domu\n",
        "* Date: data sprzedaży domu\n",
        "* Price: cena każdego sprzedanego domu\n",
        "* Bedrooms: liczba sypialni\n",
        "* Bathrooms: liczba łazienek, gdzie 0,5 odpowiada pokojowi z toaletą, ale bez prysznica\n",
        "* Sqft_living: powierzchnia wnętrza mieszkania\n",
        "* Sqft_lot: powierzchnia działki\n",
        "* Floors: liczba pięter\n",
        "* Waterfront: zmienna określająca, czy mieszkanie wychodziło na nabrzeże, czy nie\n",
        "* View: indeks od 0 do 4 pokazujący, jak dobry był widok z nieruchomości\n",
        "* Condition: indeks od 1 do 5 na temat stanu mieszkania\n",
        "* Grade: indeks od 1 do 13, oceniający jakość wykonania\n",
        "* Sqft_above: powierzchnia wnętrza mieszkania, znajdującej się nad poziomem gruntu\n",
        "* Sqft_basement: powierzchnia wnętrza mieszkania, znajdującej się poniżej poziomu gruntu\n",
        "* Yr_built: rok, w którym dom został pierwotnie zbudowany\n",
        "* Yr_renovated: rok ostatniego remontu domu\n",
        "* Zipcode: kod pocztowy\n",
        "* Lat: szerokość geograficzna\n",
        "* Long: długość geograficzna\n",
        "* Sqft_living15: powierzchnia mieszkania najbliższych 15 sąsiadów\n",
        "* Sqft_lot15: powierzchnia działki 15 najbliższych sąsiadów"
      ]
    },
    {
      "cell_type": "markdown",
      "metadata": {
        "id": "UqhAtFD86O0C"
      },
      "source": [
        "Z bazy danych postanowiono usunąć id i zipcode, gdyż wydaje się, że nie powinny mieć wpływu na cenę mieszkania. Datę sprzedaży rozdzielono na trzy wartości (rok, miesiąc i dzień). Poniżej zmodyfikowana baza danych z podstawowymi statystykami."
      ]
    },
    {
      "cell_type": "code",
      "metadata": {
        "colab": {
          "base_uri": "https://localhost:8080/",
          "height": 317
        },
        "id": "m-F_IrAg9yoc",
        "outputId": "4ed09159-3b26-4fda-e2ab-2a75d650f5d3"
      },
      "source": [
        "hous_data['year'] = hous_data['date'].apply(lambda x: x.year)\n",
        "hous_data['month'] = hous_data['date'].apply(lambda x: x.month)\n",
        "hous_data['day'] = hous_data['date'].apply(lambda x: x.day)\n",
        "hous_data.drop(['id', 'zipcode', 'date'], axis=1, inplace=True)\n",
        "hous_data.describe()"
      ],
      "execution_count": 87,
      "outputs": [
        {
          "output_type": "execute_result",
          "data": {
            "text/html": [
              "<div>\n",
              "<style scoped>\n",
              "    .dataframe tbody tr th:only-of-type {\n",
              "        vertical-align: middle;\n",
              "    }\n",
              "\n",
              "    .dataframe tbody tr th {\n",
              "        vertical-align: top;\n",
              "    }\n",
              "\n",
              "    .dataframe thead th {\n",
              "        text-align: right;\n",
              "    }\n",
              "</style>\n",
              "<table border=\"1\" class=\"dataframe\">\n",
              "  <thead>\n",
              "    <tr style=\"text-align: right;\">\n",
              "      <th></th>\n",
              "      <th>price</th>\n",
              "      <th>bedrooms</th>\n",
              "      <th>bathrooms</th>\n",
              "      <th>sqft_living</th>\n",
              "      <th>sqft_lot</th>\n",
              "      <th>floors</th>\n",
              "      <th>waterfront</th>\n",
              "      <th>view</th>\n",
              "      <th>condition</th>\n",
              "      <th>grade</th>\n",
              "      <th>sqft_above</th>\n",
              "      <th>sqft_basement</th>\n",
              "      <th>yr_built</th>\n",
              "      <th>yr_renovated</th>\n",
              "      <th>lat</th>\n",
              "      <th>long</th>\n",
              "      <th>sqft_living15</th>\n",
              "      <th>sqft_lot15</th>\n",
              "      <th>year</th>\n",
              "      <th>month</th>\n",
              "      <th>day</th>\n",
              "    </tr>\n",
              "  </thead>\n",
              "  <tbody>\n",
              "    <tr>\n",
              "      <th>count</th>\n",
              "      <td>2.161300e+04</td>\n",
              "      <td>21613.000000</td>\n",
              "      <td>21613.000000</td>\n",
              "      <td>21613.000000</td>\n",
              "      <td>2.161300e+04</td>\n",
              "      <td>21613.000000</td>\n",
              "      <td>21613.000000</td>\n",
              "      <td>21613.000000</td>\n",
              "      <td>21613.000000</td>\n",
              "      <td>21613.000000</td>\n",
              "      <td>21613.000000</td>\n",
              "      <td>21613.000000</td>\n",
              "      <td>21613.000000</td>\n",
              "      <td>21613.000000</td>\n",
              "      <td>21613.000000</td>\n",
              "      <td>21613.000000</td>\n",
              "      <td>21613.000000</td>\n",
              "      <td>21613.000000</td>\n",
              "      <td>21613.000000</td>\n",
              "      <td>21613.000000</td>\n",
              "      <td>21613.000000</td>\n",
              "    </tr>\n",
              "    <tr>\n",
              "      <th>mean</th>\n",
              "      <td>5.400881e+05</td>\n",
              "      <td>3.370842</td>\n",
              "      <td>2.114757</td>\n",
              "      <td>2079.899736</td>\n",
              "      <td>1.510697e+04</td>\n",
              "      <td>1.494309</td>\n",
              "      <td>0.007542</td>\n",
              "      <td>0.234303</td>\n",
              "      <td>3.409430</td>\n",
              "      <td>7.656873</td>\n",
              "      <td>1788.390691</td>\n",
              "      <td>291.509045</td>\n",
              "      <td>1971.005136</td>\n",
              "      <td>84.402258</td>\n",
              "      <td>47.560053</td>\n",
              "      <td>-122.213896</td>\n",
              "      <td>1986.552492</td>\n",
              "      <td>12768.455652</td>\n",
              "      <td>2014.322954</td>\n",
              "      <td>6.574423</td>\n",
              "      <td>15.688197</td>\n",
              "    </tr>\n",
              "    <tr>\n",
              "      <th>std</th>\n",
              "      <td>3.671272e+05</td>\n",
              "      <td>0.930062</td>\n",
              "      <td>0.770163</td>\n",
              "      <td>918.440897</td>\n",
              "      <td>4.142051e+04</td>\n",
              "      <td>0.539989</td>\n",
              "      <td>0.086517</td>\n",
              "      <td>0.766318</td>\n",
              "      <td>0.650743</td>\n",
              "      <td>1.175459</td>\n",
              "      <td>828.090978</td>\n",
              "      <td>442.575043</td>\n",
              "      <td>29.373411</td>\n",
              "      <td>401.679240</td>\n",
              "      <td>0.138564</td>\n",
              "      <td>0.140828</td>\n",
              "      <td>685.391304</td>\n",
              "      <td>27304.179631</td>\n",
              "      <td>0.467616</td>\n",
              "      <td>3.115308</td>\n",
              "      <td>8.635063</td>\n",
              "    </tr>\n",
              "    <tr>\n",
              "      <th>min</th>\n",
              "      <td>7.500000e+04</td>\n",
              "      <td>0.000000</td>\n",
              "      <td>0.000000</td>\n",
              "      <td>290.000000</td>\n",
              "      <td>5.200000e+02</td>\n",
              "      <td>1.000000</td>\n",
              "      <td>0.000000</td>\n",
              "      <td>0.000000</td>\n",
              "      <td>1.000000</td>\n",
              "      <td>1.000000</td>\n",
              "      <td>290.000000</td>\n",
              "      <td>0.000000</td>\n",
              "      <td>1900.000000</td>\n",
              "      <td>0.000000</td>\n",
              "      <td>47.155900</td>\n",
              "      <td>-122.519000</td>\n",
              "      <td>399.000000</td>\n",
              "      <td>651.000000</td>\n",
              "      <td>2014.000000</td>\n",
              "      <td>1.000000</td>\n",
              "      <td>1.000000</td>\n",
              "    </tr>\n",
              "    <tr>\n",
              "      <th>25%</th>\n",
              "      <td>3.219500e+05</td>\n",
              "      <td>3.000000</td>\n",
              "      <td>1.750000</td>\n",
              "      <td>1427.000000</td>\n",
              "      <td>5.040000e+03</td>\n",
              "      <td>1.000000</td>\n",
              "      <td>0.000000</td>\n",
              "      <td>0.000000</td>\n",
              "      <td>3.000000</td>\n",
              "      <td>7.000000</td>\n",
              "      <td>1190.000000</td>\n",
              "      <td>0.000000</td>\n",
              "      <td>1951.000000</td>\n",
              "      <td>0.000000</td>\n",
              "      <td>47.471000</td>\n",
              "      <td>-122.328000</td>\n",
              "      <td>1490.000000</td>\n",
              "      <td>5100.000000</td>\n",
              "      <td>2014.000000</td>\n",
              "      <td>4.000000</td>\n",
              "      <td>8.000000</td>\n",
              "    </tr>\n",
              "    <tr>\n",
              "      <th>50%</th>\n",
              "      <td>4.500000e+05</td>\n",
              "      <td>3.000000</td>\n",
              "      <td>2.250000</td>\n",
              "      <td>1910.000000</td>\n",
              "      <td>7.618000e+03</td>\n",
              "      <td>1.500000</td>\n",
              "      <td>0.000000</td>\n",
              "      <td>0.000000</td>\n",
              "      <td>3.000000</td>\n",
              "      <td>7.000000</td>\n",
              "      <td>1560.000000</td>\n",
              "      <td>0.000000</td>\n",
              "      <td>1975.000000</td>\n",
              "      <td>0.000000</td>\n",
              "      <td>47.571800</td>\n",
              "      <td>-122.230000</td>\n",
              "      <td>1840.000000</td>\n",
              "      <td>7620.000000</td>\n",
              "      <td>2014.000000</td>\n",
              "      <td>6.000000</td>\n",
              "      <td>16.000000</td>\n",
              "    </tr>\n",
              "    <tr>\n",
              "      <th>75%</th>\n",
              "      <td>6.450000e+05</td>\n",
              "      <td>4.000000</td>\n",
              "      <td>2.500000</td>\n",
              "      <td>2550.000000</td>\n",
              "      <td>1.068800e+04</td>\n",
              "      <td>2.000000</td>\n",
              "      <td>0.000000</td>\n",
              "      <td>0.000000</td>\n",
              "      <td>4.000000</td>\n",
              "      <td>8.000000</td>\n",
              "      <td>2210.000000</td>\n",
              "      <td>560.000000</td>\n",
              "      <td>1997.000000</td>\n",
              "      <td>0.000000</td>\n",
              "      <td>47.678000</td>\n",
              "      <td>-122.125000</td>\n",
              "      <td>2360.000000</td>\n",
              "      <td>10083.000000</td>\n",
              "      <td>2015.000000</td>\n",
              "      <td>9.000000</td>\n",
              "      <td>23.000000</td>\n",
              "    </tr>\n",
              "    <tr>\n",
              "      <th>max</th>\n",
              "      <td>7.700000e+06</td>\n",
              "      <td>33.000000</td>\n",
              "      <td>8.000000</td>\n",
              "      <td>13540.000000</td>\n",
              "      <td>1.651359e+06</td>\n",
              "      <td>3.500000</td>\n",
              "      <td>1.000000</td>\n",
              "      <td>4.000000</td>\n",
              "      <td>5.000000</td>\n",
              "      <td>13.000000</td>\n",
              "      <td>9410.000000</td>\n",
              "      <td>4820.000000</td>\n",
              "      <td>2015.000000</td>\n",
              "      <td>2015.000000</td>\n",
              "      <td>47.777600</td>\n",
              "      <td>-121.315000</td>\n",
              "      <td>6210.000000</td>\n",
              "      <td>871200.000000</td>\n",
              "      <td>2015.000000</td>\n",
              "      <td>12.000000</td>\n",
              "      <td>31.000000</td>\n",
              "    </tr>\n",
              "  </tbody>\n",
              "</table>\n",
              "</div>"
            ],
            "text/plain": [
              "              price      bedrooms  ...         month           day\n",
              "count  2.161300e+04  21613.000000  ...  21613.000000  21613.000000\n",
              "mean   5.400881e+05      3.370842  ...      6.574423     15.688197\n",
              "std    3.671272e+05      0.930062  ...      3.115308      8.635063\n",
              "min    7.500000e+04      0.000000  ...      1.000000      1.000000\n",
              "25%    3.219500e+05      3.000000  ...      4.000000      8.000000\n",
              "50%    4.500000e+05      3.000000  ...      6.000000     16.000000\n",
              "75%    6.450000e+05      4.000000  ...      9.000000     23.000000\n",
              "max    7.700000e+06     33.000000  ...     12.000000     31.000000\n",
              "\n",
              "[8 rows x 21 columns]"
            ]
          },
          "metadata": {
            "tags": []
          },
          "execution_count": 87
        }
      ]
    },
    {
      "cell_type": "code",
      "metadata": {
        "id": "cWXyHs-5mN_T"
      },
      "source": [
        "# Przekonwertowanie wszystkich liczb na float, pomieszanie wierszy i rozdzielenie na zbriór uczący, testowy i walidacyjny\n",
        "length = hous_data.shape[0]\n",
        "hous_data = hous_data.astype(float)\n",
        "hous_data = hous_data.astype({'view': int, 'condition': int, 'grade': int})\n",
        "hous_data = hous_data.sample(frac=1, random_state=0).reset_index(drop=True)\n",
        "train, val, test = hous_data.loc[:int(length*0.5)], hous_data.loc[int(length*0.5):int(length*0.75)], hous_data.loc[int(length*0.75):]\n",
        "train_y, train_x = train['price'], train[train.columns[1:]]\n",
        "val_y, val_x = val['price'], val[train.columns[1:]]\n",
        "test_y, test_x = test['price'], test[train.columns[1:]]"
      ],
      "execution_count": 88,
      "outputs": []
    },
    {
      "cell_type": "markdown",
      "metadata": {
        "id": "_VPCpTw5mt1d"
      },
      "source": [
        "Dane zostały podzielone na dane treningowe, walidacyjne oraz testowe (każdy zestaw na wejście oraz wyjście).\n",
        "\n",
        "Ze względu na to, że drugim testowanym modelem będzie maszyna wektorów wspierających postanowiono od razu znormalizować dane. Co prawda ciężej wtedy oceniać pojedynczą predykcję modelu (bo wynik może być ujemny na przykład), ale równie łatwo porównywać różne predykcje oraz wpływ parametrów na predykcję. Z tych względów uznano, że cała dalsza analiza będzie na danych znormalizowanych."
      ]
    },
    {
      "cell_type": "code",
      "metadata": {
        "id": "2S3JrmL7Bprc"
      },
      "source": [
        "train_x, train_y = (train_x-train_x.mean())/train_x.std(), (train_y-train_y.mean())/train_y.std()\n",
        "val_x, val_y = (val_x-val_x.mean())/val_x.std(), (val_y-val_y.mean())/val_y.std()\n",
        "test_x, test_y = (test_x-test_x.mean())/test_x.std(), (test_y-test_y.mean())/test_y.std()"
      ],
      "execution_count": 89,
      "outputs": []
    },
    {
      "cell_type": "markdown",
      "metadata": {
        "id": "avs7R7yA15Qk"
      },
      "source": [
        "# 1. Nauczenie modelu przy pomocy lasu losowego\n"
      ]
    },
    {
      "cell_type": "code",
      "metadata": {
        "colab": {
          "base_uri": "https://localhost:8080/"
        },
        "id": "Tkvvs9Zsm3CN",
        "outputId": "33ca15e9-5cef-4ced-d208-24c73a572e05"
      },
      "source": [
        "from sklearn.ensemble import RandomForestRegressor\n",
        "np.random.seed(0)\n",
        "# Stworzenie i wytrenowanie modelu\n",
        "tree_regressor = RandomForestRegressor(criterion='mse', max_depth=10)\n",
        "tree_regressor.fit(train_x, train_y)"
      ],
      "execution_count": 90,
      "outputs": [
        {
          "output_type": "execute_result",
          "data": {
            "text/plain": [
              "RandomForestRegressor(bootstrap=True, ccp_alpha=0.0, criterion='mse',\n",
              "                      max_depth=10, max_features='auto', max_leaf_nodes=None,\n",
              "                      max_samples=None, min_impurity_decrease=0.0,\n",
              "                      min_impurity_split=None, min_samples_leaf=1,\n",
              "                      min_samples_split=2, min_weight_fraction_leaf=0.0,\n",
              "                      n_estimators=100, n_jobs=None, oob_score=False,\n",
              "                      random_state=None, verbose=0, warm_start=False)"
            ]
          },
          "metadata": {
            "tags": []
          },
          "execution_count": 90
        }
      ]
    },
    {
      "cell_type": "markdown",
      "metadata": {
        "id": "l0AU6fXLupMQ"
      },
      "source": [
        "Został nauczony model decyzyjny (o maksymalnej głębokości 15), a następnie zewaluowany na danych treningowych, walidacyjnych i testowych."
      ]
    },
    {
      "cell_type": "code",
      "metadata": {
        "id": "X2XqcSKzt8bY",
        "colab": {
          "base_uri": "https://localhost:8080/"
        },
        "outputId": "4ed295e1-fc04-4971-f94c-38614d29be79"
      },
      "source": [
        "tree_train_r2 = tree_regressor.score(train_x, train_y)\n",
        "tree_val_r2 = tree_regressor.score(val_x, val_y)\n",
        "tree_test_r2 = tree_regressor.score(test_x, test_y)\n",
        "print('Współczynnik determinacji dla zbiory treningowego {}'.format(tree_train_r2))\n",
        "print('Współczynnik determinacji dla zbiory walidacyjnego {}'.format(tree_val_r2))\n",
        "print('Współczynnik determinacji dla zbiory testowego {}'.format(tree_test_r2))"
      ],
      "execution_count": 91,
      "outputs": [
        {
          "output_type": "stream",
          "text": [
            "Współczynnik determinacji dla zbiory treningowego 0.9441895879863321\n",
            "Współczynnik determinacji dla zbiory walidacyjnego 0.8352120292790165\n",
            "Współczynnik determinacji dla zbiory testowego 0.8464893300231482\n"
          ],
          "name": "stdout"
        }
      ]
    },
    {
      "cell_type": "markdown",
      "metadata": {
        "id": "60VoqOpSut8g"
      },
      "source": [
        "Dla modelu wyznaczono współczynniki determinacji (dla zbioru uczącego, walidacyjnego i treningowego), który określa jak dobrze model jest dopasowany do danych (maksymalna wartość to 1).\n",
        "\n",
        "Jak widać po tych współczynnikach model nie jest idealny, ale powinien całkiem dobrze szacować wartość nieruchomości."
      ]
    },
    {
      "cell_type": "markdown",
      "metadata": {
        "id": "2j1zPqhw2Nvf"
      },
      "source": [
        "# 2. Wyznaczeni predykcji dla trzech obserwacji"
      ]
    },
    {
      "cell_type": "code",
      "metadata": {
        "id": "psZr-scz2SgA",
        "colab": {
          "base_uri": "https://localhost:8080/",
          "height": 278
        },
        "outputId": "c369422d-6db5-4b86-9c0d-a78981aa5096"
      },
      "source": [
        "# Wyznaczenie predykcji dla trzech elementów ze zbioru treningowego (jako, że zbiór ten był tasowany mogą to być równie dobrze 3 pierwsze).\n",
        "# Przy badaniu wpływu danego parametru na predykcję modelu nie ma też szczególnie znaczenia, czy to zbiór uczący, czy testowy\n",
        "observations = train_x[:3]\n",
        "predictions_tree = tree_regressor.predict(observations)\n",
        "observations_show = observations.append(train_x.describe().loc['mean'])\n",
        "observations_show.insert(loc=0, column='price', value=(*train_y[:3], train_y.mean()))\n",
        "observations_show.insert(loc=1, column='price predicted', value=(*predictions_tree, tree_regressor.predict(train_x).mean()))\n",
        "observations_show"
      ],
      "execution_count": 92,
      "outputs": [
        {
          "output_type": "execute_result",
          "data": {
            "text/html": [
              "<div>\n",
              "<style scoped>\n",
              "    .dataframe tbody tr th:only-of-type {\n",
              "        vertical-align: middle;\n",
              "    }\n",
              "\n",
              "    .dataframe tbody tr th {\n",
              "        vertical-align: top;\n",
              "    }\n",
              "\n",
              "    .dataframe thead th {\n",
              "        text-align: right;\n",
              "    }\n",
              "</style>\n",
              "<table border=\"1\" class=\"dataframe\">\n",
              "  <thead>\n",
              "    <tr style=\"text-align: right;\">\n",
              "      <th></th>\n",
              "      <th>price</th>\n",
              "      <th>price predicted</th>\n",
              "      <th>bedrooms</th>\n",
              "      <th>bathrooms</th>\n",
              "      <th>sqft_living</th>\n",
              "      <th>sqft_lot</th>\n",
              "      <th>floors</th>\n",
              "      <th>waterfront</th>\n",
              "      <th>view</th>\n",
              "      <th>condition</th>\n",
              "      <th>grade</th>\n",
              "      <th>sqft_above</th>\n",
              "      <th>sqft_basement</th>\n",
              "      <th>yr_built</th>\n",
              "      <th>yr_renovated</th>\n",
              "      <th>lat</th>\n",
              "      <th>long</th>\n",
              "      <th>sqft_living15</th>\n",
              "      <th>sqft_lot15</th>\n",
              "      <th>year</th>\n",
              "      <th>month</th>\n",
              "      <th>day</th>\n",
              "    </tr>\n",
              "  </thead>\n",
              "  <tbody>\n",
              "    <tr>\n",
              "      <th>0</th>\n",
              "      <td>-6.582786e-01</td>\n",
              "      <td>-0.527794</td>\n",
              "      <td>-1.536938e+00</td>\n",
              "      <td>-8.089172e-01</td>\n",
              "      <td>-7.197153e-01</td>\n",
              "      <td>-3.350613e-01</td>\n",
              "      <td>2.789987e+00</td>\n",
              "      <td>-8.635466e-02</td>\n",
              "      <td>-3.042379e-01</td>\n",
              "      <td>-6.298890e-01</td>\n",
              "      <td>-5.721040e-01</td>\n",
              "      <td>-4.444655e-01</td>\n",
              "      <td>-6.598347e-01</td>\n",
              "      <td>9.536919e-01</td>\n",
              "      <td>-2.108328e-01</td>\n",
              "      <td>1.171651e+00</td>\n",
              "      <td>-5.397596e-01</td>\n",
              "      <td>-8.199253e-01</td>\n",
              "      <td>-3.981334e-01</td>\n",
              "      <td>-6.894305e-01</td>\n",
              "      <td>1.097751e+00</td>\n",
              "      <td>1.538578e+00</td>\n",
              "    </tr>\n",
              "    <tr>\n",
              "      <th>1</th>\n",
              "      <td>2.789758e+00</td>\n",
              "      <td>2.968959</td>\n",
              "      <td>6.781303e-01</td>\n",
              "      <td>1.474603e+00</td>\n",
              "      <td>2.818531e+00</td>\n",
              "      <td>9.092599e-01</td>\n",
              "      <td>9.379928e-01</td>\n",
              "      <td>-8.635466e-02</td>\n",
              "      <td>-3.042379e-01</td>\n",
              "      <td>8.987906e-01</td>\n",
              "      <td>3.692435e+00</td>\n",
              "      <td>3.490098e+00</td>\n",
              "      <td>-6.598347e-01</td>\n",
              "      <td>5.753361e-01</td>\n",
              "      <td>-2.108328e-01</td>\n",
              "      <td>5.404728e-01</td>\n",
              "      <td>3.516720e-01</td>\n",
              "      <td>3.249037e+00</td>\n",
              "      <td>9.851588e-01</td>\n",
              "      <td>-6.894305e-01</td>\n",
              "      <td>4.546614e-01</td>\n",
              "      <td>-9.003448e-01</td>\n",
              "    </tr>\n",
              "    <tr>\n",
              "      <th>2</th>\n",
              "      <td>5.528449e-02</td>\n",
              "      <td>-0.031663</td>\n",
              "      <td>-1.536938e+00</td>\n",
              "      <td>-1.787569e+00</td>\n",
              "      <td>-7.087947e-01</td>\n",
              "      <td>-2.842332e-01</td>\n",
              "      <td>-9.140010e-01</td>\n",
              "      <td>-8.635466e-02</td>\n",
              "      <td>-3.042379e-01</td>\n",
              "      <td>-6.298890e-01</td>\n",
              "      <td>-5.721040e-01</td>\n",
              "      <td>-7.237709e-01</td>\n",
              "      <td>-1.194377e-01</td>\n",
              "      <td>-1.969966e+00</td>\n",
              "      <td>-2.108328e-01</td>\n",
              "      <td>7.988796e-01</td>\n",
              "      <td>-1.063299e+00</td>\n",
              "      <td>-8.053933e-01</td>\n",
              "      <td>-3.051537e-01</td>\n",
              "      <td>-6.894305e-01</td>\n",
              "      <td>-1.884282e-01</td>\n",
              "      <td>1.074022e+00</td>\n",
              "    </tr>\n",
              "    <tr>\n",
              "      <th>mean</th>\n",
              "      <td>-2.000189e-17</td>\n",
              "      <td>-0.001414</td>\n",
              "      <td>-3.559247e-16</td>\n",
              "      <td>-2.328777e-16</td>\n",
              "      <td>-1.737709e-16</td>\n",
              "      <td>-2.078766e-16</td>\n",
              "      <td>3.379467e-16</td>\n",
              "      <td>1.550347e-15</td>\n",
              "      <td>-6.419816e-16</td>\n",
              "      <td>-3.523908e-16</td>\n",
              "      <td>-6.528403e-16</td>\n",
              "      <td>-1.737195e-17</td>\n",
              "      <td>7.950006e-16</td>\n",
              "      <td>1.988200e-15</td>\n",
              "      <td>-1.221322e-15</td>\n",
              "      <td>3.108015e-13</td>\n",
              "      <td>2.653092e-12</td>\n",
              "      <td>9.249975e-17</td>\n",
              "      <td>-1.146898e-16</td>\n",
              "      <td>1.248270e-13</td>\n",
              "      <td>6.501898e-17</td>\n",
              "      <td>-1.465983e-16</td>\n",
              "    </tr>\n",
              "  </tbody>\n",
              "</table>\n",
              "</div>"
            ],
            "text/plain": [
              "             price  price predicted  ...         month           day\n",
              "0    -6.582786e-01        -0.527794  ...  1.097751e+00  1.538578e+00\n",
              "1     2.789758e+00         2.968959  ...  4.546614e-01 -9.003448e-01\n",
              "2     5.528449e-02        -0.031663  ... -1.884282e-01  1.074022e+00\n",
              "mean -2.000189e-17        -0.001414  ...  6.501898e-17 -1.465983e-16\n",
              "\n",
              "[4 rows x 22 columns]"
            ]
          },
          "metadata": {
            "tags": []
          },
          "execution_count": 92
        }
      ]
    },
    {
      "cell_type": "markdown",
      "metadata": {
        "id": "iyY1x0jX5-yF"
      },
      "source": [
        "Zostały wyznaczone predycje dla trzech obserwacji ze zbioru testowego. Powyżej można zobaczyć parametry dla każdego rekordu. Dodano również wiersz z wartością średnią danego parametru dla całego zbioru treningowego.\n",
        "\n",
        "Warto również zauważyć, że predykcję dość dobrze szacują wartość rzeczywistą."
      ]
    },
    {
      "cell_type": "markdown",
      "metadata": {
        "id": "RNBZIzpg6bJk"
      },
      "source": [
        "# 3. Dekompozycja modelu przy użyciu metody LIME\n"
      ]
    },
    {
      "cell_type": "markdown",
      "metadata": {
        "id": "eOP4chLtW8ZK"
      },
      "source": [
        "Poniżej dekompozycja przy użyciu metody LIME, dla obserwacji z punktu 2. Postanowiono wybierać 5 najważniejszych parametrów. Wartości wejściowe poddano dyskretyzacji, żeby móc zobaczyć ich rzeczywisty wpływ i żeby próbkowanie obserwacji w otoczeniu miało większy sens (to znaczy, żeby te nowe próbki rzeczywiście w jakiś sposób różniły się od badanej obserwacji [patrz wykład na temat lime'a strona 26])"
      ]
    },
    {
      "cell_type": "code",
      "metadata": {
        "id": "Mo28drOS6zn0"
      },
      "source": [
        "# !pip install lime"
      ],
      "execution_count": 93,
      "outputs": []
    },
    {
      "cell_type": "code",
      "metadata": {
        "id": "5PlF2wsJ6fxF"
      },
      "source": [
        "import lime\n",
        "import lime.lime_tabular\n",
        "\n",
        "explainer = lime.lime_tabular.LimeTabularExplainer(train_x.to_numpy(), \n",
        "                                                   feature_names=train_x.columns,\n",
        "                                                   class_names=['price'],\n",
        "                                                   verbose=False, \n",
        "                                                   discretize_continuous=True, \n",
        "                                                   mode='regression',\n",
        "                                                   random_state=0)"
      ],
      "execution_count": 94,
      "outputs": []
    },
    {
      "cell_type": "code",
      "metadata": {
        "colab": {
          "base_uri": "https://localhost:8080/",
          "height": 344
        },
        "id": "t7RB_0kRzxBk",
        "outputId": "73500480-a166-4af3-d85c-c55e80d52241"
      },
      "source": [
        "exp = explainer.explain_instance(train_x.loc[0], tree_regressor.predict, num_features=5)\n",
        "# exp.show_in_notebook(show_table=True)\n",
        "exp.as_pyplot_figure()\n",
        "pd.DataFrame(train_x.loc[0, train_x.columns[[el[0] for el in exp.as_map()[0]]]]).transpose()"
      ],
      "execution_count": 95,
      "outputs": [
        {
          "output_type": "execute_result",
          "data": {
            "text/html": [
              "<div>\n",
              "<style scoped>\n",
              "    .dataframe tbody tr th:only-of-type {\n",
              "        vertical-align: middle;\n",
              "    }\n",
              "\n",
              "    .dataframe tbody tr th {\n",
              "        vertical-align: top;\n",
              "    }\n",
              "\n",
              "    .dataframe thead th {\n",
              "        text-align: right;\n",
              "    }\n",
              "</style>\n",
              "<table border=\"1\" class=\"dataframe\">\n",
              "  <thead>\n",
              "    <tr style=\"text-align: right;\">\n",
              "      <th></th>\n",
              "      <th>sqft_living</th>\n",
              "      <th>grade</th>\n",
              "      <th>lat</th>\n",
              "      <th>view</th>\n",
              "      <th>sqft_living15</th>\n",
              "    </tr>\n",
              "  </thead>\n",
              "  <tbody>\n",
              "    <tr>\n",
              "      <th>0</th>\n",
              "      <td>-0.719715</td>\n",
              "      <td>-0.572104</td>\n",
              "      <td>1.171651</td>\n",
              "      <td>-0.304238</td>\n",
              "      <td>-0.819925</td>\n",
              "    </tr>\n",
              "  </tbody>\n",
              "</table>\n",
              "</div>"
            ],
            "text/plain": [
              "   sqft_living     grade       lat      view  sqft_living15\n",
              "0    -0.719715 -0.572104  1.171651 -0.304238      -0.819925"
            ]
          },
          "metadata": {
            "tags": []
          },
          "execution_count": 95
        },
        {
          "output_type": "display_data",
          "data": {
            "image/png": "[encoded data removed]",
            "text/plain": [
              "<Figure size 432x288 with 1 Axes>"
            ]
          },
          "metadata": {
            "tags": [],
            "needs_background": "light"
          }
        }
      ]
    },
    {
      "cell_type": "markdown",
      "metadata": {
        "id": "SOdTmmxXTTBx"
      },
      "source": [
        "Dla tej predykcji najważniejsza był parametr określający powierzchnie mieszkalną. A kolejnym grade."
      ]
    },
    {
      "cell_type": "code",
      "metadata": {
        "colab": {
          "base_uri": "https://localhost:8080/",
          "height": 344
        },
        "id": "boH_3ijykmWb",
        "outputId": "f5f92f3a-4d2c-4d42-94b2-2e935bac46d9"
      },
      "source": [
        "exp = explainer.explain_instance(train_x.loc[1], tree_regressor.predict, num_features=5)\n",
        "# exp.show_in_notebook(show_table=True)\n",
        "exp.as_pyplot_figure()\n",
        "pd.DataFrame(train_x.loc[1, train_x.columns[[el[0] for el in exp.as_map()[0]]]]).transpose()"
      ],
      "execution_count": 96,
      "outputs": [
        {
          "output_type": "execute_result",
          "data": {
            "text/html": [
              "<div>\n",
              "<style scoped>\n",
              "    .dataframe tbody tr th:only-of-type {\n",
              "        vertical-align: middle;\n",
              "    }\n",
              "\n",
              "    .dataframe tbody tr th {\n",
              "        vertical-align: top;\n",
              "    }\n",
              "\n",
              "    .dataframe thead th {\n",
              "        text-align: right;\n",
              "    }\n",
              "</style>\n",
              "<table border=\"1\" class=\"dataframe\">\n",
              "  <thead>\n",
              "    <tr style=\"text-align: right;\">\n",
              "      <th></th>\n",
              "      <th>lat</th>\n",
              "      <th>grade</th>\n",
              "      <th>sqft_living</th>\n",
              "      <th>sqft_living15</th>\n",
              "      <th>sqft_lot15</th>\n",
              "    </tr>\n",
              "  </thead>\n",
              "  <tbody>\n",
              "    <tr>\n",
              "      <th>1</th>\n",
              "      <td>0.540473</td>\n",
              "      <td>3.692435</td>\n",
              "      <td>2.818531</td>\n",
              "      <td>3.249037</td>\n",
              "      <td>0.985159</td>\n",
              "    </tr>\n",
              "  </tbody>\n",
              "</table>\n",
              "</div>"
            ],
            "text/plain": [
              "        lat     grade  sqft_living  sqft_living15  sqft_lot15\n",
              "1  0.540473  3.692435     2.818531       3.249037    0.985159"
            ]
          },
          "metadata": {
            "tags": []
          },
          "execution_count": 96
        },
        {
          "output_type": "display_data",
          "data": {
            "image/png": "[encoded data removed]",
            "text/plain": [
              "<Figure size 432x288 with 1 Axes>"
            ]
          },
          "metadata": {
            "tags": [],
            "needs_background": "light"
          }
        }
      ]
    },
    {
      "cell_type": "markdown",
      "metadata": {
        "id": "4EGYtl-MXC-l"
      },
      "source": [
        "Dla kolejnej obserwacji najważniejsza była szerokość geograficzna, a na drugim miejscu grade."
      ]
    },
    {
      "cell_type": "code",
      "metadata": {
        "id": "VkwErzOel-wh",
        "colab": {
          "base_uri": "https://localhost:8080/",
          "height": 344
        },
        "outputId": "5b2587fd-b0b6-48af-e4ca-9e7af7838968"
      },
      "source": [
        "exp = explainer.explain_instance(train_x.loc[2], tree_regressor.predict, num_features=5)\n",
        "# exp.show_in_notebook(show_table=True)\n",
        "exp.as_pyplot_figure()\n",
        "pd.DataFrame(train_x.loc[2, train_x.columns[[el[0] for el in exp.as_map()[0]]]]).transpose()"
      ],
      "execution_count": 97,
      "outputs": [
        {
          "output_type": "execute_result",
          "data": {
            "text/html": [
              "<div>\n",
              "<style scoped>\n",
              "    .dataframe tbody tr th:only-of-type {\n",
              "        vertical-align: middle;\n",
              "    }\n",
              "\n",
              "    .dataframe tbody tr th {\n",
              "        vertical-align: top;\n",
              "    }\n",
              "\n",
              "    .dataframe thead th {\n",
              "        text-align: right;\n",
              "    }\n",
              "</style>\n",
              "<table border=\"1\" class=\"dataframe\">\n",
              "  <thead>\n",
              "    <tr style=\"text-align: right;\">\n",
              "      <th></th>\n",
              "      <th>lat</th>\n",
              "      <th>sqft_living</th>\n",
              "      <th>grade</th>\n",
              "      <th>long</th>\n",
              "      <th>sqft_living15</th>\n",
              "    </tr>\n",
              "  </thead>\n",
              "  <tbody>\n",
              "    <tr>\n",
              "      <th>2</th>\n",
              "      <td>0.79888</td>\n",
              "      <td>-0.708795</td>\n",
              "      <td>-0.572104</td>\n",
              "      <td>-1.063299</td>\n",
              "      <td>-0.805393</td>\n",
              "    </tr>\n",
              "  </tbody>\n",
              "</table>\n",
              "</div>"
            ],
            "text/plain": [
              "       lat  sqft_living     grade      long  sqft_living15\n",
              "2  0.79888    -0.708795 -0.572104 -1.063299      -0.805393"
            ]
          },
          "metadata": {
            "tags": []
          },
          "execution_count": 97
        },
        {
          "output_type": "display_data",
          "data": {
            "image/png": "[encoded data removed]",
            "text/plain": [
              "<Figure size 432x288 with 1 Axes>"
            ]
          },
          "metadata": {
            "tags": [],
            "needs_background": "light"
          }
        }
      ]
    },
    {
      "cell_type": "markdown",
      "metadata": {
        "id": "urJY-5jCQKHS"
      },
      "source": [
        "Tym razem również najważniejsza była szerokość geograficzna, ale na drugim miescu była powierzchnia mieszkalna."
      ]
    },
    {
      "cell_type": "markdown",
      "metadata": {
        "id": "fNKFT2RnTyxg"
      },
      "source": [
        "# 4. Porównanie dekompozycji dla różnych obserwacji i badanie stabilności"
      ]
    },
    {
      "cell_type": "markdown",
      "metadata": {
        "id": "UQmOE0DasKoP"
      },
      "source": [
        "Patrząc na powyższe dekompozycje wydaje się, że te same parametry mają podobny wpływ na predykcję modelu. To znaczy na przykład powierzchnia mieszkania mniejsza niż -0.71 (przypominam, że to są liczby po znormalizowaniu) ma dla dwóch powyższych przykładów podobny wpływ negatywny. Żeby mieć szerszy ogląd sytuacji postanowiono zobaczyć rozkład wpływu danego parametru dla większej liczby obserwacji."
      ]
    },
    {
      "cell_type": "code",
      "metadata": {
        "id": "s0Ot1-OLwa72"
      },
      "source": [
        "exp_dict = {}\n",
        "for i in train_x.index[:300]:\n",
        "  exp = explainer.explain_instance(train_x.loc[i], tree_regressor.predict, num_features=5)\n",
        "  exp_dict_one_obs = {el[0]:el[1] for el in exp.as_list()}\n",
        "  for k, v in exp_dict_one_obs.items():\n",
        "    exp_dict.setdefault(k, []).append(v)\n",
        "  \n",
        "exp_dict = dict(sorted(exp_dict.items(), key=lambda item: len(item[1]), reverse=True))"
      ],
      "execution_count": 98,
      "outputs": []
    },
    {
      "cell_type": "markdown",
      "metadata": {
        "id": "pVWmhvymmwSC"
      },
      "source": [
        "Poniżej rozkłady wpływu danego parametru dla dwóch tysięcy obserwacji ze zbioru treningowego."
      ]
    },
    {
      "cell_type": "code",
      "metadata": {
        "colab": {
          "base_uri": "https://localhost:8080/",
          "height": 281
        },
        "id": "vtv4yrsOb8mS",
        "outputId": "463dcab5-7f33-4ef3-b77a-2ba59efe1d54"
      },
      "source": [
        "import seaborn as sns\n",
        "keys = list(exp_dict.keys())\n",
        "ax = sns.histplot(exp_dict[keys[0]], bins=20).set_title('Histogram wpływu parametru {} na predykcję modelu'.format(keys[0]))"
      ],
      "execution_count": 99,
      "outputs": [
        {
          "output_type": "display_data",
          "data": {
            "image/png": "[encoded data removed]",
            "text/plain": [
              "<Figure size 432x288 with 1 Axes>"
            ]
          },
          "metadata": {
            "tags": [],
            "needs_background": "light"
          }
        }
      ]
    },
    {
      "cell_type": "markdown",
      "metadata": {
        "id": "cA5VZE8vm-LS"
      },
      "source": [
        "Pierwszy wykres przedstawia rozkład wpływu parametru grade (mniejszego niż -0.57) na predykcję modelu. Jak widać dla większośći obserwacji ten parametr ma podobny wpływ.\n",
        "\n",
        "Podobnie jest dla kolejnych trzech parametrów (wykresy można zobaczyć poniżej)."
      ]
    },
    {
      "cell_type": "code",
      "metadata": {
        "colab": {
          "base_uri": "https://localhost:8080/",
          "height": 281
        },
        "id": "sz2pYS716JcU",
        "outputId": "f296d1d5-355c-45cc-aa7f-86aa73b73414"
      },
      "source": [
        "ax = sns.histplot(exp_dict[keys[1]], bins=20).set_title('Histogram wpływu parametru {} na predykcję modelu'.format(keys[1]))"
      ],
      "execution_count": 100,
      "outputs": [
        {
          "output_type": "display_data",
          "data": {
            "image/png": "[encoded data removed]",
            "text/plain": [
              "<Figure size 432x288 with 1 Axes>"
            ]
          },
          "metadata": {
            "tags": [],
            "needs_background": "light"
          }
        }
      ]
    },
    {
      "cell_type": "code",
      "metadata": {
        "colab": {
          "base_uri": "https://localhost:8080/",
          "height": 281
        },
        "id": "0pp4JYNh6M5a",
        "outputId": "984d9827-87d6-4d01-f185-cf1363b4b502"
      },
      "source": [
        "ax = sns.histplot(exp_dict[keys[2]], bins=20).set_title('Histogram wpływu parametru {} na predykcję modelu'.format(keys[2]))"
      ],
      "execution_count": 101,
      "outputs": [
        {
          "output_type": "display_data",
          "data": {
            "image/png": "[encoded data removed]",
            "text/plain": [
              "<Figure size 432x288 with 1 Axes>"
            ]
          },
          "metadata": {
            "tags": [],
            "needs_background": "light"
          }
        }
      ]
    },
    {
      "cell_type": "code",
      "metadata": {
        "colab": {
          "base_uri": "https://localhost:8080/",
          "height": 281
        },
        "id": "D6xWaPzM6Q70",
        "outputId": "89d71467-261f-42e9-ba7d-3fd868e67c60"
      },
      "source": [
        "ax = sns.histplot(exp_dict[keys[3]], bins=20).set_title('Histogram wpływu parametru {} na predykcję modelu'.format(keys[3]))"
      ],
      "execution_count": 102,
      "outputs": [
        {
          "output_type": "display_data",
          "data": {
            "image/png": "[encoded data removed]",
            "text/plain": [
              "<Figure size 432x288 with 1 Axes>"
            ]
          },
          "metadata": {
            "tags": [],
            "needs_background": "light"
          }
        }
      ]
    },
    {
      "cell_type": "markdown",
      "metadata": {
        "id": "YDjYSv9nP5pf"
      },
      "source": [
        "Żeby zbadać stabilność wyjaśnienia trzeba sprawdzić, czy znieznaczna zmiana jakiegoś parametru nie sprawi, że model wygenerowany przez LIME'a nie będzie znacznie inny. W tym celu użyto dekompozycji LIME dla pierwszej obserwacji oraz dla zmodyfikowanej pierwszej obserwacji.\n",
        "\n",
        "Najpierw bez modyfikacji:"
      ]
    },
    {
      "cell_type": "code",
      "metadata": {
        "colab": {
          "base_uri": "https://localhost:8080/",
          "height": 344
        },
        "id": "V_wuvl6NQpPp",
        "outputId": "20eace36-3495-4f4e-86d7-e5e1e79d21f5"
      },
      "source": [
        "explainer = lime.lime_tabular.LimeTabularExplainer(train_x.to_numpy(), feature_names=train_x.columns, class_names=['price'], verbose=False, discretize_continuous=True, mode='regression', random_state=0)\n",
        "obs = train_x.loc[0]\n",
        "exp = explainer.explain_instance(obs, tree_regressor.predict, num_features=5)\n",
        "# exp.show_in_notebook(show_table=True)\n",
        "exp.as_pyplot_figure()\n",
        "pd.DataFrame(obs[train_x.columns[[el[0] for el in exp.as_map()[0]]]]).transpose()"
      ],
      "execution_count": 103,
      "outputs": [
        {
          "output_type": "execute_result",
          "data": {
            "text/html": [
              "<div>\n",
              "<style scoped>\n",
              "    .dataframe tbody tr th:only-of-type {\n",
              "        vertical-align: middle;\n",
              "    }\n",
              "\n",
              "    .dataframe tbody tr th {\n",
              "        vertical-align: top;\n",
              "    }\n",
              "\n",
              "    .dataframe thead th {\n",
              "        text-align: right;\n",
              "    }\n",
              "</style>\n",
              "<table border=\"1\" class=\"dataframe\">\n",
              "  <thead>\n",
              "    <tr style=\"text-align: right;\">\n",
              "      <th></th>\n",
              "      <th>sqft_living</th>\n",
              "      <th>grade</th>\n",
              "      <th>lat</th>\n",
              "      <th>view</th>\n",
              "      <th>sqft_living15</th>\n",
              "    </tr>\n",
              "  </thead>\n",
              "  <tbody>\n",
              "    <tr>\n",
              "      <th>0</th>\n",
              "      <td>-0.719715</td>\n",
              "      <td>-0.572104</td>\n",
              "      <td>1.171651</td>\n",
              "      <td>-0.304238</td>\n",
              "      <td>-0.819925</td>\n",
              "    </tr>\n",
              "  </tbody>\n",
              "</table>\n",
              "</div>"
            ],
            "text/plain": [
              "   sqft_living     grade       lat      view  sqft_living15\n",
              "0    -0.719715 -0.572104  1.171651 -0.304238      -0.819925"
            ]
          },
          "metadata": {
            "tags": []
          },
          "execution_count": 103
        },
        {
          "output_type": "display_data",
          "data": {
            "image/png": "[encoded data removed]",
            "text/plain": [
              "<Figure size 432x288 with 1 Axes>"
            ]
          },
          "metadata": {
            "tags": [],
            "needs_background": "light"
          }
        }
      ]
    },
    {
      "cell_type": "code",
      "metadata": {
        "colab": {
          "base_uri": "https://localhost:8080/",
          "height": 344
        },
        "id": "qXNXaoqmRwyY",
        "outputId": "25988c76-a452-4482-f016-9478d572f5c2"
      },
      "source": [
        "explainer = lime.lime_tabular.LimeTabularExplainer(train_x.to_numpy(), feature_names=train_x.columns, class_names=['price'], verbose=False, discretize_continuous=True, mode='regression', random_state=0)\n",
        "\n",
        "obs_mod = obs.copy()\n",
        "obs_mod['sqft_living'] += 0.1\n",
        "exp = explainer.explain_instance(obs_mod, tree_regressor.predict, num_features=5)\n",
        "# exp.show_in_notebook(show_table=True)\n",
        "\n",
        "exp.as_pyplot_figure()\n",
        "pd.DataFrame(obs_mod[train_x.columns[[el[0] for el in exp.as_map()[0]]]]).transpose()"
      ],
      "execution_count": 104,
      "outputs": [
        {
          "output_type": "execute_result",
          "data": {
            "text/html": [
              "<div>\n",
              "<style scoped>\n",
              "    .dataframe tbody tr th:only-of-type {\n",
              "        vertical-align: middle;\n",
              "    }\n",
              "\n",
              "    .dataframe tbody tr th {\n",
              "        vertical-align: top;\n",
              "    }\n",
              "\n",
              "    .dataframe thead th {\n",
              "        text-align: right;\n",
              "    }\n",
              "</style>\n",
              "<table border=\"1\" class=\"dataframe\">\n",
              "  <thead>\n",
              "    <tr style=\"text-align: right;\">\n",
              "      <th></th>\n",
              "      <th>grade</th>\n",
              "      <th>sqft_living</th>\n",
              "      <th>view</th>\n",
              "      <th>lat</th>\n",
              "      <th>sqft_living15</th>\n",
              "    </tr>\n",
              "  </thead>\n",
              "  <tbody>\n",
              "    <tr>\n",
              "      <th>0</th>\n",
              "      <td>-0.572104</td>\n",
              "      <td>-0.619715</td>\n",
              "      <td>-0.304238</td>\n",
              "      <td>1.171651</td>\n",
              "      <td>-0.819925</td>\n",
              "    </tr>\n",
              "  </tbody>\n",
              "</table>\n",
              "</div>"
            ],
            "text/plain": [
              "      grade  sqft_living      view       lat  sqft_living15\n",
              "0 -0.572104    -0.619715 -0.304238  1.171651      -0.819925"
            ]
          },
          "metadata": {
            "tags": []
          },
          "execution_count": 104
        },
        {
          "output_type": "display_data",
          "data": {
            "image/png": "[encoded data removed]",
            "text/plain": [
              "<Figure size 432x288 with 1 Axes>"
            ]
          },
          "metadata": {
            "tags": [],
            "needs_background": "light"
          }
        }
      ]
    },
    {
      "cell_type": "markdown",
      "metadata": {
        "id": "0SxESpbxU5oF"
      },
      "source": [
        "Powyżej dekompozycja dla tej samej obserwacji, ale z trochę zmienioną wartością sqft_living (tak, żeby przeszła do innej kategorii; wtedy była w kategori sqft_living <=-0.71, a teraz jest w -0.71< sqft_living <=-0.17). Jak widać parametry dekompozycji są bardzo podobne."
      ]
    },
    {
      "cell_type": "code",
      "metadata": {
        "colab": {
          "base_uri": "https://localhost:8080/",
          "height": 344
        },
        "id": "82YHHhXOVTHx",
        "outputId": "01d4e2cd-032b-44d2-a54f-9f51532d0995"
      },
      "source": [
        "explainer = lime.lime_tabular.LimeTabularExplainer(train_x.to_numpy(), feature_names=train_x.columns, class_names=['price'], verbose=False, discretize_continuous=True, mode='regression', random_state=0)\n",
        "\n",
        "obs_mod = obs.copy()\n",
        "obs_mod['sqft_living'] += 1\n",
        "exp = explainer.explain_instance(obs_mod, tree_regressor.predict, num_features=5)\n",
        "# exp.show_in_notebook(show_table=True)\n",
        "exp.as_pyplot_figure()\n",
        "pd.DataFrame(obs_mod[train_x.columns[[el[0] for el in exp.as_map()[0]]]]).transpose()"
      ],
      "execution_count": 105,
      "outputs": [
        {
          "output_type": "execute_result",
          "data": {
            "text/html": [
              "<div>\n",
              "<style scoped>\n",
              "    .dataframe tbody tr th:only-of-type {\n",
              "        vertical-align: middle;\n",
              "    }\n",
              "\n",
              "    .dataframe tbody tr th {\n",
              "        vertical-align: top;\n",
              "    }\n",
              "\n",
              "    .dataframe thead th {\n",
              "        text-align: right;\n",
              "    }\n",
              "</style>\n",
              "<table border=\"1\" class=\"dataframe\">\n",
              "  <thead>\n",
              "    <tr style=\"text-align: right;\">\n",
              "      <th></th>\n",
              "      <th>grade</th>\n",
              "      <th>view</th>\n",
              "      <th>lat</th>\n",
              "      <th>sqft_living15</th>\n",
              "      <th>sqft_living</th>\n",
              "    </tr>\n",
              "  </thead>\n",
              "  <tbody>\n",
              "    <tr>\n",
              "      <th>0</th>\n",
              "      <td>-0.572104</td>\n",
              "      <td>-0.304238</td>\n",
              "      <td>1.171651</td>\n",
              "      <td>-0.819925</td>\n",
              "      <td>0.280285</td>\n",
              "    </tr>\n",
              "  </tbody>\n",
              "</table>\n",
              "</div>"
            ],
            "text/plain": [
              "      grade      view       lat  sqft_living15  sqft_living\n",
              "0 -0.572104 -0.304238  1.171651      -0.819925     0.280285"
            ]
          },
          "metadata": {
            "tags": []
          },
          "execution_count": 105
        },
        {
          "output_type": "display_data",
          "data": {
            "image/png": "[encoded data removed]",
            "text/plain": [
              "<Figure size 432x288 with 1 Axes>"
            ]
          },
          "metadata": {
            "tags": [],
            "needs_background": "light"
          }
        }
      ]
    },
    {
      "cell_type": "markdown",
      "metadata": {
        "id": "eAZpcxgHWDMp"
      },
      "source": [
        "Nawet po sporej zmianie sqft_living (o 1) pozostałe parametry wyjaśnienia zmieniły się tylko nieznacznie."
      ]
    },
    {
      "cell_type": "code",
      "metadata": {
        "colab": {
          "base_uri": "https://localhost:8080/",
          "height": 344
        },
        "id": "GiDRXCr2YENo",
        "outputId": "e9653445-ce06-4c88-e628-0efb2c037854"
      },
      "source": [
        "explainer = lime.lime_tabular.LimeTabularExplainer(train_x.to_numpy(), feature_names=train_x.columns, class_names=['price'], verbose=False, discretize_continuous=True, mode='regression', random_state=0)\n",
        "\n",
        "obs_mod = obs.copy()\n",
        "obs_mod['view'] += 1\n",
        "exp = explainer.explain_instance(obs_mod, tree_regressor.predict, num_features=5)\n",
        "# exp.show_in_notebook(show_table=True)\n",
        "exp.as_pyplot_figure()\n",
        "pd.DataFrame(obs_mod[train_x.columns[[el[0] for el in exp.as_map()[0]]]]).transpose()"
      ],
      "execution_count": 106,
      "outputs": [
        {
          "output_type": "execute_result",
          "data": {
            "text/html": [
              "<div>\n",
              "<style scoped>\n",
              "    .dataframe tbody tr th:only-of-type {\n",
              "        vertical-align: middle;\n",
              "    }\n",
              "\n",
              "    .dataframe tbody tr th {\n",
              "        vertical-align: top;\n",
              "    }\n",
              "\n",
              "    .dataframe thead th {\n",
              "        text-align: right;\n",
              "    }\n",
              "</style>\n",
              "<table border=\"1\" class=\"dataframe\">\n",
              "  <thead>\n",
              "    <tr style=\"text-align: right;\">\n",
              "      <th></th>\n",
              "      <th>sqft_living</th>\n",
              "      <th>grade</th>\n",
              "      <th>lat</th>\n",
              "      <th>view</th>\n",
              "      <th>sqft_living15</th>\n",
              "    </tr>\n",
              "  </thead>\n",
              "  <tbody>\n",
              "    <tr>\n",
              "      <th>0</th>\n",
              "      <td>-0.719715</td>\n",
              "      <td>-0.572104</td>\n",
              "      <td>1.171651</td>\n",
              "      <td>0.695762</td>\n",
              "      <td>-0.819925</td>\n",
              "    </tr>\n",
              "  </tbody>\n",
              "</table>\n",
              "</div>"
            ],
            "text/plain": [
              "   sqft_living     grade       lat      view  sqft_living15\n",
              "0    -0.719715 -0.572104  1.171651  0.695762      -0.819925"
            ]
          },
          "metadata": {
            "tags": []
          },
          "execution_count": 106
        },
        {
          "output_type": "display_data",
          "data": {
            "image/png": "[encoded data removed]",
            "text/plain": [
              "<Figure size 432x288 with 1 Axes>"
            ]
          },
          "metadata": {
            "tags": [],
            "needs_background": "light"
          }
        }
      ]
    },
    {
      "cell_type": "markdown",
      "metadata": {
        "id": "npRNTqe5WVi0"
      },
      "source": [
        "Powyżej dekompozycja dla pierwszej obserwacji ze zmodyfikownym parametrem view. Jak widać również tylko wartość dla tego parametru się zmieniła. Pozostałe wcale lub tylko nieznacznie. Wszystko wskazuje na to, że wyjaśnienie jest stabilne (w każdym razie dla tej obserwacji).\n",
        "\n",
        "\n",
        "Poniżej analogiczna analiza dla innej obserwacji. Najpier dekompozycja bez zmian:"
      ]
    },
    {
      "cell_type": "code",
      "metadata": {
        "colab": {
          "base_uri": "https://localhost:8080/",
          "height": 344
        },
        "id": "kKzmobsmXTHC",
        "outputId": "8f1d72b5-6c06-4311-8db8-bc29a6ba1233"
      },
      "source": [
        "explainer = lime.lime_tabular.LimeTabularExplainer(train_x.to_numpy(), feature_names=train_x.columns, class_names=['price'], verbose=False, discretize_continuous=True, mode='regression', random_state=0)\n",
        "obs = train_x.loc[1]\n",
        "exp = explainer.explain_instance(obs, tree_regressor.predict, num_features=5)\n",
        "# exp.show_in_notebook(show_table=True)\n",
        "exp.as_pyplot_figure()\n",
        "pd.DataFrame(obs[train_x.columns[[el[0] for el in exp.as_map()[0]]]]).transpose()"
      ],
      "execution_count": 107,
      "outputs": [
        {
          "output_type": "execute_result",
          "data": {
            "text/html": [
              "<div>\n",
              "<style scoped>\n",
              "    .dataframe tbody tr th:only-of-type {\n",
              "        vertical-align: middle;\n",
              "    }\n",
              "\n",
              "    .dataframe tbody tr th {\n",
              "        vertical-align: top;\n",
              "    }\n",
              "\n",
              "    .dataframe thead th {\n",
              "        text-align: right;\n",
              "    }\n",
              "</style>\n",
              "<table border=\"1\" class=\"dataframe\">\n",
              "  <thead>\n",
              "    <tr style=\"text-align: right;\">\n",
              "      <th></th>\n",
              "      <th>grade</th>\n",
              "      <th>lat</th>\n",
              "      <th>sqft_living</th>\n",
              "      <th>waterfront</th>\n",
              "      <th>sqft_living15</th>\n",
              "    </tr>\n",
              "  </thead>\n",
              "  <tbody>\n",
              "    <tr>\n",
              "      <th>1</th>\n",
              "      <td>3.692435</td>\n",
              "      <td>0.540473</td>\n",
              "      <td>2.818531</td>\n",
              "      <td>-0.086355</td>\n",
              "      <td>3.249037</td>\n",
              "    </tr>\n",
              "  </tbody>\n",
              "</table>\n",
              "</div>"
            ],
            "text/plain": [
              "      grade       lat  sqft_living  waterfront  sqft_living15\n",
              "1  3.692435  0.540473     2.818531   -0.086355       3.249037"
            ]
          },
          "metadata": {
            "tags": []
          },
          "execution_count": 107
        },
        {
          "output_type": "display_data",
          "data": {
            "image/png": "[encoded data removed]",
            "text/plain": [
              "<Figure size 432x288 with 1 Axes>"
            ]
          },
          "metadata": {
            "tags": [],
            "needs_background": "light"
          }
        }
      ]
    },
    {
      "cell_type": "markdown",
      "metadata": {
        "id": "pMuNzDqJsI05"
      },
      "source": [
        "A później ze zmienionymy niektórymi parametrami."
      ]
    },
    {
      "cell_type": "code",
      "metadata": {
        "colab": {
          "base_uri": "https://localhost:8080/",
          "height": 344
        },
        "id": "4OkoZRJXsfox",
        "outputId": "68988bc9-34b8-4806-bccd-51b61f7cd0f5"
      },
      "source": [
        "explainer = lime.lime_tabular.LimeTabularExplainer(train_x.to_numpy(), feature_names=train_x.columns, class_names=['price'], verbose=False, discretize_continuous=True, mode='regression', random_state=0)\n",
        "\n",
        "obs_mod = obs.copy()\n",
        "obs_mod['lat'] -= 1\n",
        "exp = explainer.explain_instance(obs_mod, tree_regressor.predict, num_features=5)\n",
        "# exp.show_in_notebook(show_table=True)\n",
        "exp.as_pyplot_figure()\n",
        "pd.DataFrame(obs_mod[train_x.columns[[el[0] for el in exp.as_map()[0]]]]).transpose()"
      ],
      "execution_count": 108,
      "outputs": [
        {
          "output_type": "execute_result",
          "data": {
            "text/html": [
              "<div>\n",
              "<style scoped>\n",
              "    .dataframe tbody tr th:only-of-type {\n",
              "        vertical-align: middle;\n",
              "    }\n",
              "\n",
              "    .dataframe tbody tr th {\n",
              "        vertical-align: top;\n",
              "    }\n",
              "\n",
              "    .dataframe thead th {\n",
              "        text-align: right;\n",
              "    }\n",
              "</style>\n",
              "<table border=\"1\" class=\"dataframe\">\n",
              "  <thead>\n",
              "    <tr style=\"text-align: right;\">\n",
              "      <th></th>\n",
              "      <th>grade</th>\n",
              "      <th>sqft_living</th>\n",
              "      <th>waterfront</th>\n",
              "      <th>sqft_living15</th>\n",
              "      <th>lat</th>\n",
              "    </tr>\n",
              "  </thead>\n",
              "  <tbody>\n",
              "    <tr>\n",
              "      <th>1</th>\n",
              "      <td>3.692435</td>\n",
              "      <td>2.818531</td>\n",
              "      <td>-0.086355</td>\n",
              "      <td>3.249037</td>\n",
              "      <td>-0.459527</td>\n",
              "    </tr>\n",
              "  </tbody>\n",
              "</table>\n",
              "</div>"
            ],
            "text/plain": [
              "      grade  sqft_living  waterfront  sqft_living15       lat\n",
              "1  3.692435     2.818531   -0.086355       3.249037 -0.459527"
            ]
          },
          "metadata": {
            "tags": []
          },
          "execution_count": 108
        },
        {
          "output_type": "display_data",
          "data": {
            "image/png": "[encoded data removed]",
            "text/plain": [
              "<Figure size 432x288 with 1 Axes>"
            ]
          },
          "metadata": {
            "tags": [],
            "needs_background": "light"
          }
        }
      ]
    },
    {
      "cell_type": "markdown",
      "metadata": {
        "id": "ZTs73yK-svWx"
      },
      "source": [
        "Tym razem wpływ zmienionego parametru ma trochę większę znaczenie niż poprzednio, ale pozostałe parametry wyjaśnienia się nie zmieniły."
      ]
    },
    {
      "cell_type": "markdown",
      "metadata": {
        "id": "UNPUog4ctsCQ"
      },
      "source": [
        "**Komentarz**\n",
        "\n",
        "Różne obserwacje różniły się trochę pod względem tego, który parametr miał największy wpływ. Aczkolwiek patrząc na kilkaset obserwacji wygląda na to, że te same parametry miały podobny wpływ (zarówno pod względem tego, czy działały na plus, czy na minus, ale także wartości były podobne, co obrazują histogramy pokazane wcześniej).\n",
        "\n",
        "Wygląda również na to, że wyjaśnienie tego modelu jest stabilne. To znaczy małe zmiany parametru obserwacji zmieniały tylko nieznacznie model wygenerowany przez metodę LIME."
      ]
    },
    {
      "cell_type": "markdown",
      "metadata": {
        "id": "3xf5YEIVX7sm"
      },
      "source": [
        "# 5. Wytrenowanie drugiego modelu i znalezienie obserwacji różniącej się dla modeli"
      ]
    },
    {
      "cell_type": "code",
      "metadata": {
        "id": "IpKVQPE1YCMF",
        "colab": {
          "base_uri": "https://localhost:8080/"
        },
        "outputId": "f65956af-fd52-47b9-ed44-c88b1f635493"
      },
      "source": [
        "from sklearn.svm import SVR\n",
        "\n",
        "svm_regressor = SVR(kernel='rbf', C=10, gamma='scale', epsilon=0.1)\n",
        "svm_regressor.fit(train_x, train_y)\n",
        "\n",
        "print('Współczynnik determinacji dla zbiory treningowego {}'.format(svm_regressor.score(train_x, train_y)))\n",
        "print('Współczynnik determinacji dla zbiory walidacyjnego {}'.format(svm_regressor.score(val_x, val_y)))\n",
        "print('Współczynnik determinacji dla zbiory testowego {}'.format(svm_regressor.score(test_x, test_y)))"
      ],
      "execution_count": 109,
      "outputs": [
        {
          "output_type": "stream",
          "text": [
            "Współczynnik determinacji dla zbiory treningowego 0.939283953971495\n",
            "Współczynnik determinacji dla zbiory walidacyjnego 0.7984580157052511\n",
            "Współczynnik determinacji dla zbiory testowego 0.7985283399053899\n"
          ],
          "name": "stdout"
        }
      ]
    },
    {
      "cell_type": "markdown",
      "metadata": {
        "id": "wBODkQ5qyknu"
      },
      "source": [
        "Drugim nauczonym modelem jest maszyna wektorów wspierających. Jak widać ma ona o trochę niższy współczynnik determinacji. Ale prawdopodobnie jej predykcje mają wystarczająco sensu, żeby analizować ją metodą lime.\n",
        "\n",
        "Poniżej dekomopozycja dla jednej z obserwacji."
      ]
    },
    {
      "cell_type": "code",
      "metadata": {
        "colab": {
          "base_uri": "https://localhost:8080/",
          "height": 344
        },
        "id": "DPplr-RwxJzx",
        "outputId": "bd27e4eb-d5c8-4924-d131-054913c2ad43"
      },
      "source": [
        "explainer = lime.lime_tabular.LimeTabularExplainer(train_x.to_numpy(), feature_names=train_x.columns, class_names=['price'], verbose=False, discretize_continuous=True, mode='regression', random_state=0)\n",
        "\n",
        "exp = explainer.explain_instance(train_x.loc[0], svm_regressor.predict, num_features=5)\n",
        "# exp.show_in_notebook(show_table=True)\n",
        "exp.as_pyplot_figure()\n",
        "pd.DataFrame(train_x.loc[0, train_x.columns[[el[0] for el in exp.as_map()[0]]]]).transpose()"
      ],
      "execution_count": 110,
      "outputs": [
        {
          "output_type": "execute_result",
          "data": {
            "text/html": [
              "<div>\n",
              "<style scoped>\n",
              "    .dataframe tbody tr th:only-of-type {\n",
              "        vertical-align: middle;\n",
              "    }\n",
              "\n",
              "    .dataframe tbody tr th {\n",
              "        vertical-align: top;\n",
              "    }\n",
              "\n",
              "    .dataframe thead th {\n",
              "        text-align: right;\n",
              "    }\n",
              "</style>\n",
              "<table border=\"1\" class=\"dataframe\">\n",
              "  <thead>\n",
              "    <tr style=\"text-align: right;\">\n",
              "      <th></th>\n",
              "      <th>waterfront</th>\n",
              "      <th>grade</th>\n",
              "      <th>lat</th>\n",
              "      <th>view</th>\n",
              "      <th>sqft_living15</th>\n",
              "    </tr>\n",
              "  </thead>\n",
              "  <tbody>\n",
              "    <tr>\n",
              "      <th>0</th>\n",
              "      <td>-0.086355</td>\n",
              "      <td>-0.572104</td>\n",
              "      <td>1.171651</td>\n",
              "      <td>-0.304238</td>\n",
              "      <td>-0.819925</td>\n",
              "    </tr>\n",
              "  </tbody>\n",
              "</table>\n",
              "</div>"
            ],
            "text/plain": [
              "   waterfront     grade       lat      view  sqft_living15\n",
              "0   -0.086355 -0.572104  1.171651 -0.304238      -0.819925"
            ]
          },
          "metadata": {
            "tags": []
          },
          "execution_count": 110
        },
        {
          "output_type": "display_data",
          "data": {
            "image/png": "[encoded data removed]",
            "text/plain": [
              "<Figure size 432x288 with 1 Axes>"
            ]
          },
          "metadata": {
            "tags": [],
            "needs_background": "light"
          }
        }
      ]
    },
    {
      "cell_type": "markdown",
      "metadata": {
        "id": "i0U5YqU0yRjN"
      },
      "source": [
        "Postanowiono znaleźć obserwacje, których dekompozycje możliwie najbardziej różnią się od siebie."
      ]
    },
    {
      "cell_type": "code",
      "metadata": {
        "id": "CUYrJrCWx270"
      },
      "source": [
        "most_diff_id = 0\n",
        "shortest_len = 5\n",
        "for id in train_x.index[100:110]:\n",
        "  explainer = lime.lime_tabular.LimeTabularExplainer(train_x.to_numpy(), feature_names=train_x.columns, class_names=['price'], verbose=False, discretize_continuous=True, mode='regression', random_state=0)\n",
        "  exp1 = explainer.explain_instance(train_x.loc[0], tree_regressor.predict, num_features=5)\n",
        "  exp2 = explainer.explain_instance(train_x.loc[0], svm_regressor.predict, num_features=5)\n",
        "  e1_set = set([el[0] for el in exp1.as_list()])\n",
        "  e2_set = set([el[0] for el in exp2.as_list()])\n",
        "  if len(e1_set.intersection(e2_set)) < shortest_len:\n",
        "    most_diff_id = id\n",
        "    shortest_len = len(e1_set.intersection(e2_set))\n",
        "    if e1_set.intersection(e2_set)==set():\n",
        "      break"
      ],
      "execution_count": 111,
      "outputs": []
    },
    {
      "cell_type": "code",
      "metadata": {
        "colab": {
          "base_uri": "https://localhost:8080/",
          "height": 608
        },
        "id": "NDj0xEy9zJJx",
        "outputId": "a7ab9148-a8a9-498d-86dd-4ef5b592b778"
      },
      "source": [
        "explainer = lime.lime_tabular.LimeTabularExplainer(train_x.to_numpy(), feature_names=train_x.columns, class_names=['price'], verbose=False, discretize_continuous=True, mode='regression', random_state=0)\n",
        "\n",
        "exp = explainer.explain_instance(train_x.loc[most_diff_id], tree_regressor.predict, num_features=5)\n",
        "# exp.show_in_notebook(show_table=True)\n",
        "exp.as_pyplot_figure()\n",
        "\n",
        "explainer = lime.lime_tabular.LimeTabularExplainer(train_x.to_numpy(), feature_names=train_x.columns, class_names=['price'], verbose=False, discretize_continuous=True, mode='regression', random_state=0)\n",
        "\n",
        "exp = explainer.explain_instance(train_x.loc[most_diff_id], svm_regressor.predict, num_features=5)\n",
        "# exp.show_in_notebook(show_table=True)\n",
        "exp.as_pyplot_figure()\n",
        "pd.DataFrame(train_x.loc[most_diff_id, train_x.columns[[el[0] for el in exp.as_map()[0]]]]).transpose()"
      ],
      "execution_count": 112,
      "outputs": [
        {
          "output_type": "execute_result",
          "data": {
            "text/html": [
              "<div>\n",
              "<style scoped>\n",
              "    .dataframe tbody tr th:only-of-type {\n",
              "        vertical-align: middle;\n",
              "    }\n",
              "\n",
              "    .dataframe tbody tr th {\n",
              "        vertical-align: top;\n",
              "    }\n",
              "\n",
              "    .dataframe thead th {\n",
              "        text-align: right;\n",
              "    }\n",
              "</style>\n",
              "<table border=\"1\" class=\"dataframe\">\n",
              "  <thead>\n",
              "    <tr style=\"text-align: right;\">\n",
              "      <th></th>\n",
              "      <th>waterfront</th>\n",
              "      <th>lat</th>\n",
              "      <th>grade</th>\n",
              "      <th>view</th>\n",
              "      <th>condition</th>\n",
              "    </tr>\n",
              "  </thead>\n",
              "  <tbody>\n",
              "    <tr>\n",
              "      <th>100</th>\n",
              "      <td>-0.086355</td>\n",
              "      <td>-0.766038</td>\n",
              "      <td>-0.572104</td>\n",
              "      <td>-0.304238</td>\n",
              "      <td>-0.629889</td>\n",
              "    </tr>\n",
              "  </tbody>\n",
              "</table>\n",
              "</div>"
            ],
            "text/plain": [
              "     waterfront       lat     grade      view  condition\n",
              "100   -0.086355 -0.766038 -0.572104 -0.304238  -0.629889"
            ]
          },
          "metadata": {
            "tags": []
          },
          "execution_count": 112
        },
        {
          "output_type": "display_data",
          "data": {
            "image/png": "[encoded data removed]",
            "text/plain": [
              "<Figure size 432x288 with 1 Axes>"
            ]
          },
          "metadata": {
            "tags": [],
            "needs_background": "light"
          }
        },
        {
          "output_type": "display_data",
          "data": {
            "image/png": "[encoded data removed]",
            "text/plain": [
              "<Figure size 432x288 with 1 Axes>"
            ]
          },
          "metadata": {
            "tags": [],
            "needs_background": "light"
          }
        }
      ]
    },
    {
      "cell_type": "markdown",
      "metadata": {
        "id": "l1xwXr_73bko"
      },
      "source": [
        "Powyżej dekompozycja metodą LIME dla tej samej obserwacji i dwóch różnych modeli"
      ]
    },
    {
      "cell_type": "markdown",
      "metadata": {
        "id": "dRYLgMXs3VrS"
      },
      "source": [
        "**Komentarz**\n",
        "\n",
        "Jak widać mimo tych samych danych wejściowych (i bardzo podobnej predykcji) te dwa modele biorą pod uwagę inne rzeczy. Dla modelu drzewiastego największy wpływ miała szerokość geograficzna, a dla SVMa to czy mieszkanie wychodzi na nabrzeże (waterfront). Pierwszy model uwzględniał również powierzchnie mieszkania, a drugi nie. Za to obydwa modele biorą pod uwagę dla tej obserwacji grade oraz view."
      ]
    }
  ]
}