{
 "cells": [
  {
   "cell_type": "markdown",
   "id": "51542bf1",
   "metadata": {},
   "source": [
    "# Appendix"
   ]
  },
  {
   "cell_type": "code",
   "execution_count": 1,
   "id": "202e8bcd",
   "metadata": {},
   "outputs": [],
   "source": [
    "import pandas as pd\n",
    "import numpy as np\n",
    "import matplotlib.pyplot as plt\n",
    "import seaborn as sn\n",
    "\n",
    "from lightgbm import LGBMClassifier\n",
    "from sklearn.model_selection import train_test_split\n",
    "from sklearn.preprocessing import OrdinalEncoder, StandardScaler, OneHotEncoder\n",
    "from sklearn.impute import SimpleImputer\n",
    "from sklearn.compose import make_column_transformer, ColumnTransformer\n",
    "from sklearn.pipeline import make_pipeline\n",
    "from sklearn.model_selection import train_test_split\n",
    "from sklearn.metrics import roc_auc_score\n",
    "from sklearn.linear_model import LogisticRegression\n",
    "from sklearn.neural_network import MLPClassifier\n",
    "from sklearn.metrics import confusion_matrix\n",
    "from sklearn.ensemble import RandomForestClassifier"
   ]
  },
  {
   "cell_type": "markdown",
   "id": "35a9415e",
   "metadata": {},
   "source": [
    "## Przygotowanie danych\n",
    "Ponownie operuje na "
   ]
  },
  {
   "cell_type": "code",
   "execution_count": 2,
   "id": "4ea98154",
   "metadata": {},
   "outputs": [],
   "source": [
    "df = pd.read_csv('./train.csv')"
   ]
  },
  {
   "cell_type": "code",
   "execution_count": 4,
   "id": "df1ae86e",
   "metadata": {},
   "outputs": [
    {
     "data": {
      "text/html": [
       "<div>\n",
       "<style scoped>\n",
       "    .dataframe tbody tr th:only-of-type {\n",
       "        vertical-align: middle;\n",
       "    }\n",
       "\n",
       "    .dataframe tbody tr th {\n",
       "        vertical-align: top;\n",
       "    }\n",
       "\n",
       "    .dataframe thead th {\n",
       "        text-align: right;\n",
       "    }\n",
       "</style>\n",
       "<table border=\"1\" class=\"dataframe\">\n",
       "  <thead>\n",
       "    <tr style=\"text-align: right;\">\n",
       "      <th></th>\n",
       "      <th>PassengerId</th>\n",
       "      <th>Survived</th>\n",
       "      <th>Pclass</th>\n",
       "      <th>Name</th>\n",
       "      <th>Age</th>\n",
       "      <th>SibSp</th>\n",
       "      <th>Parch</th>\n",
       "      <th>Ticket</th>\n",
       "      <th>Fare</th>\n",
       "      <th>Cabin</th>\n",
       "      <th>Embarked</th>\n",
       "    </tr>\n",
       "    <tr>\n",
       "      <th>Sex</th>\n",
       "      <th></th>\n",
       "      <th></th>\n",
       "      <th></th>\n",
       "      <th></th>\n",
       "      <th></th>\n",
       "      <th></th>\n",
       "      <th></th>\n",
       "      <th></th>\n",
       "      <th></th>\n",
       "      <th></th>\n",
       "      <th></th>\n",
       "    </tr>\n",
       "  </thead>\n",
       "  <tbody>\n",
       "    <tr>\n",
       "      <th>female</th>\n",
       "      <td>314</td>\n",
       "      <td>314</td>\n",
       "      <td>314</td>\n",
       "      <td>314</td>\n",
       "      <td>261</td>\n",
       "      <td>314</td>\n",
       "      <td>314</td>\n",
       "      <td>314</td>\n",
       "      <td>314</td>\n",
       "      <td>97</td>\n",
       "      <td>312</td>\n",
       "    </tr>\n",
       "    <tr>\n",
       "      <th>male</th>\n",
       "      <td>577</td>\n",
       "      <td>577</td>\n",
       "      <td>577</td>\n",
       "      <td>577</td>\n",
       "      <td>453</td>\n",
       "      <td>577</td>\n",
       "      <td>577</td>\n",
       "      <td>577</td>\n",
       "      <td>577</td>\n",
       "      <td>107</td>\n",
       "      <td>577</td>\n",
       "    </tr>\n",
       "  </tbody>\n",
       "</table>\n",
       "</div>"
      ],
      "text/plain": [
       "        PassengerId  Survived  Pclass  Name  Age  SibSp  Parch  Ticket  Fare  \\\n",
       "Sex                                                                            \n",
       "female          314       314     314   314  261    314    314     314   314   \n",
       "male            577       577     577   577  453    577    577     577   577   \n",
       "\n",
       "        Cabin  Embarked  \n",
       "Sex                      \n",
       "female     97       312  \n",
       "male      107       577  "
      ]
     },
     "execution_count": 4,
     "metadata": {},
     "output_type": "execute_result"
    }
   ],
   "source": [
    "df.groupby(\"Sex\").count()"
   ]
  },
  {
   "cell_type": "code",
   "execution_count": 3,
   "id": "8ec80b8c",
   "metadata": {},
   "outputs": [],
   "source": [
    "df = pd.read_csv('./train.csv', index_col='PassengerId')\n",
    "df.reset_index(inplace=True)\n",
    "\n",
    "df['Sex'] = (df['Sex'] == 'female').astype(int)\n",
    "\n",
    "df_train, df_test = train_test_split(df, test_size=0.2, shuffle=False)"
   ]
  },
  {
   "cell_type": "code",
   "execution_count": 58,
   "id": "d2e6ab82",
   "metadata": {},
   "outputs": [],
   "source": [
    "continous_columns = ['Age', 'SibSp', 'Parch', 'Fare']\n",
    "categorical_columns = [ 'Pclass',  'Sex']\n",
    "\n",
    "model_columns = categorical_columns + continous_columns\n",
    "    \n",
    "X_train, y_train = df_train[model_columns], df_train['Survived']\n",
    "X_test, y_test = df_test[model_columns], df_test['Survived']"
   ]
  },
  {
   "cell_type": "markdown",
   "id": "cec4a036",
   "metadata": {},
   "source": [
    "## Trening 4 modeli:\n",
    "* Lightgbm\n",
    "* Sieć neuronowa\n",
    "* Regresja Logistyczna\n",
    "* Las losowy"
   ]
  },
  {
   "cell_type": "code",
   "execution_count": 10,
   "id": "d7d2f511",
   "metadata": {},
   "outputs": [
    {
     "name": "stderr",
     "output_type": "stream",
     "text": [
      "/home/azapala/anaconda3/envs/main/lib/python3.8/site-packages/lightgbm/basic.py:1551: UserWarning: Using categorical_feature in Dataset.\n",
      "  warnings.warn('Using categorical_feature in Dataset.')\n"
     ]
    },
    {
     "data": {
      "text/plain": [
       "Pipeline(steps=[('pipeline',\n",
       "                 Pipeline(steps=[('simpleimputer',\n",
       "                                  SimpleImputer(fill_value=0,\n",
       "                                                strategy='constant'))])),\n",
       "                ('lgbmclassifier', LGBMClassifier(max_depth=4))])"
      ]
     },
     "execution_count": 10,
     "metadata": {},
     "output_type": "execute_result"
    }
   ],
   "source": [
    "imputer = SimpleImputer(missing_values=np.nan, strategy='constant', fill_value=0)\n",
    "preprocess = make_pipeline(imputer)\n",
    "lgbm = LGBMClassifier(max_depth=4)\n",
    "\n",
    "model_lgbm = make_pipeline(preprocess, lgbm)\n",
    "model_lgbm.fit(X_train,y_train, lgbmclassifier__categorical_feature=[model_columns.index(col) for col in categorical_columns])"
   ]
  },
  {
   "cell_type": "code",
   "execution_count": 11,
   "id": "26d0ae8d",
   "metadata": {},
   "outputs": [
    {
     "data": {
      "text/plain": [
       "Pipeline(steps=[('pipeline',\n",
       "                 Pipeline(steps=[('simpleimputer',\n",
       "                                  SimpleImputer(fill_value=0,\n",
       "                                                strategy='constant'))])),\n",
       "                ('mlpclassifier',\n",
       "                 MLPClassifier(hidden_layer_sizes=(30, 10), max_iter=1000))])"
      ]
     },
     "execution_count": 11,
     "metadata": {},
     "output_type": "execute_result"
    }
   ],
   "source": [
    "net = MLPClassifier(hidden_layer_sizes=(30,10), max_iter=1000)\n",
    "model_net = make_pipeline(preprocess, net)\n",
    "model_net.fit(X_train, y_train)"
   ]
  },
  {
   "cell_type": "code",
   "execution_count": 12,
   "id": "1a6a6f39",
   "metadata": {},
   "outputs": [
    {
     "data": {
      "text/plain": [
       "Pipeline(steps=[('columntransformer',\n",
       "                 ColumnTransformer(transformers=[('num',\n",
       "                                                  Pipeline(steps=[('simpleimputer',\n",
       "                                                                   SimpleImputer(fill_value=0,\n",
       "                                                                                 strategy='constant')),\n",
       "                                                                  ('standardscaler',\n",
       "                                                                   StandardScaler())]),\n",
       "                                                  ['Age', 'SibSp', 'Parch',\n",
       "                                                   'Fare']),\n",
       "                                                 ('cat',\n",
       "                                                  Pipeline(steps=[('onehotencoder',\n",
       "                                                                   OneHotEncoder(handle_unknown='ignore'))]),\n",
       "                                                  ['Pclass', 'Sex'])])),\n",
       "                ('logisticregression', LogisticRegression())])"
      ]
     },
     "execution_count": 12,
     "metadata": {},
     "output_type": "execute_result"
    }
   ],
   "source": [
    "lr = LogisticRegression()\n",
    "\n",
    "num_preprocess = make_pipeline(imputer,  StandardScaler())\n",
    "cat_preprocess = make_pipeline(OneHotEncoder(handle_unknown='ignore'))\n",
    "\n",
    "preprocessor_one_hot = ColumnTransformer([\n",
    "        ('num', num_preprocess, continous_columns),\n",
    "        ('cat', cat_preprocess, categorical_columns)])\n",
    "\n",
    "model_lr = make_pipeline(preprocessor_one_hot, lr)\n",
    "model_lr.fit(X_train,y_train)"
   ]
  },
  {
   "cell_type": "code",
   "execution_count": 88,
   "id": "ec9307df",
   "metadata": {},
   "outputs": [
    {
     "data": {
      "text/plain": [
       "Pipeline(steps=[('pipeline',\n",
       "                 Pipeline(steps=[('simpleimputer',\n",
       "                                  SimpleImputer(fill_value=0,\n",
       "                                                strategy='constant'))])),\n",
       "                ('randomforestclassifier',\n",
       "                 RandomForestClassifier(max_depth=4, n_estimators=20))])"
      ]
     },
     "execution_count": 88,
     "metadata": {},
     "output_type": "execute_result"
    }
   ],
   "source": [
    "rf = RandomForestClassifier(n_estimators=20, max_depth=4)\n",
    "model_rf = make_pipeline(preprocess, rf)\n",
    "model_rf.fit(X_train, y_train)"
   ]
  },
  {
   "cell_type": "code",
   "execution_count": 89,
   "id": "ccfe3027",
   "metadata": {},
   "outputs": [],
   "source": [
    "def evaluate(model, model_name):\n",
    "    train_preds = model.predict_proba(X_train)[:,1]\n",
    "    test_preds = model.predict_proba(X_test)[:,1]\n",
    "\n",
    "    print(f\"Roc auc train {model_name}:\", roc_auc_score(y_train, train_preds))\n",
    "    print(f\"Roc auc test {model_name}:\", roc_auc_score(y_test, test_preds))"
   ]
  },
  {
   "cell_type": "code",
   "execution_count": 90,
   "id": "eca85462",
   "metadata": {},
   "outputs": [
    {
     "name": "stdout",
     "output_type": "stream",
     "text": [
      "Roc auc train Lightgbm: 0.9522220932931075\n",
      "Roc auc test Lightgbm: 0.9042119565217391\n",
      "Roc auc train siec neuronowa: 0.8649670125650633\n",
      "Roc auc test siec neuronowa: 0.875271739130435\n",
      "Roc auc train regresja logistyczna: 0.8399363458541922\n",
      "Roc auc test regresja logistyczna: 0.8599184782608696\n",
      "Roc auc train las losowy: 0.87906126711534\n",
      "Roc auc test las losowy: 0.887975543478261\n"
     ]
    }
   ],
   "source": [
    "evaluate(model_lgbm, 'Lightgbm')\n",
    "evaluate(model_net, 'siec neuronowa')\n",
    "evaluate(model_lr, 'regresja logistyczna')\n",
    "evaluate(model_rf, 'las losowy')"
   ]
  },
  {
   "cell_type": "code",
   "execution_count": 91,
   "id": "8b16e260",
   "metadata": {},
   "outputs": [],
   "source": [
    "def calculate_fairness_metrics(model, X_train, y_train):\n",
    "    train_preds = model.predict_proba(X_train)[:,1]\n",
    "    threshold = 0.5\n",
    "    train_class = (train_preds > threshold)\n",
    "    tn, fp, fn, tp = confusion_matrix(y_train, train_class).ravel()\n",
    "    statistical_parity_ratio = (tp+fp)/(tp+fp+tn+fn)\n",
    "    equal_opportunity_ratio = (tp)/(tp+fn)\n",
    "    predictive_equality_ratio = fp/(fp+tn) \n",
    "    accuracy_equality_ratio = (tp+tn) / (tp+fp+tn+fn)\n",
    "    return statistical_parity_ratio, equal_opportunity_ratio, predictive_equality_ratio, accuracy_equality_ratio"
   ]
  },
  {
   "cell_type": "code",
   "execution_count": 92,
   "id": "48f975df",
   "metadata": {},
   "outputs": [],
   "source": [
    "from collections import defaultdict\n",
    "res = defaultdict(list)\n",
    "for model, model_name in zip([model_lgbm, model_lr, model_net, model_rf], ['lgbm', 'logistic regression', 'net', 'random forest']):\n",
    "    for sex in [0,1]:\n",
    "        statistical_parity_ratio, equal_opportunity_ratio, predictive_equality_ratio, accuracy_equality_ratio = calculate_fairness_metrics(model, X_train[X_train.Sex == sex], y_train[X_train.Sex == sex])\n",
    "        res['statistical_parity_ratio'].append(statistical_parity_ratio)\n",
    "        res['equal_opportunity_ratio'].append(equal_opportunity_ratio)\n",
    "        res['predictive_equality_ratio'].append(predictive_equality_ratio)\n",
    "        res['accuracy_equality_ratio'].append(accuracy_equality_ratio)\n",
    "        res['sex'].append('female' if sex else 'male')\n",
    "        res['model'].append(model_name)"
   ]
  },
  {
   "cell_type": "code",
   "execution_count": 93,
   "id": "2f4b4c29",
   "metadata": {},
   "outputs": [],
   "source": [
    "df_res = pd.DataFrame(res)"
   ]
  },
  {
   "cell_type": "code",
   "execution_count": 94,
   "id": "2a1c41ef",
   "metadata": {},
   "outputs": [
    {
     "data": {
      "image/png": "[encoded data removed]",
      "text/plain": [
       "<Figure size 430.5x360 with 1 Axes>"
      ]
     },
     "metadata": {
      "needs_background": "light"
     },
     "output_type": "display_data"
    },
    {
     "data": {
      "image/png": "[encoded data removed]",
      "text/plain": [
       "<Figure size 430.5x360 with 1 Axes>"
      ]
     },
     "metadata": {
      "needs_background": "light"
     },
     "output_type": "display_data"
    },
    {
     "data": {
      "image/png": "[encoded data removed]",
      "text/plain": [
       "<Figure size 430.5x360 with 1 Axes>"
      ]
     },
     "metadata": {
      "needs_background": "light"
     },
     "output_type": "display_data"
    },
    {
     "data": {
      "image/png": "[encoded data removed]",
      "text/plain": [
       "<Figure size 430.5x360 with 1 Axes>"
      ]
     },
     "metadata": {
      "needs_background": "light"
     },
     "output_type": "display_data"
    }
   ],
   "source": [
    "for metric in ['statistical_parity_ratio', 'equal_opportunity_ratio', 'predictive_equality_ratio', 'accuracy_equality_ratio']:\n",
    "    sn.catplot(x='model', y=metric, hue='sex', data=df_res, kind='bar')\n",
    "    plt.title(metric)\n",
    "    plt.savefig(f\"{metric}.png\")"
   ]
  }
 ],
 "metadata": {
  "kernelspec": {
   "display_name": "main",
   "language": "python",
   "name": "main"
  },
  "language_info": {
   "codemirror_mode": {
    "name": "ipython",
    "version": 3
   },
   "file_extension": ".py",
   "mimetype": "text/x-python",
   "name": "python",
   "nbconvert_exporter": "python",
   "pygments_lexer": "ipython3",
   "version": "3.8.5"
  }
 },
 "nbformat": 4,
 "nbformat_minor": 5
}
