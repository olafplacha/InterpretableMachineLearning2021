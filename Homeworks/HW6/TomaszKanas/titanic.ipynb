{
 "cells": [
  {
   "cell_type": "markdown",
   "metadata": {},
   "source": [
    "Solving titanic problem from https://www.kaggle.com/c/titanic/"
   ]
  },
  {
   "cell_type": "code",
   "execution_count": 1,
   "metadata": {
    "tags": [
     "remove_cell"
    ]
   },
   "outputs": [],
   "source": [
    "import numpy as np\n",
    "import pandas as pd\n",
    "from sklearn import preprocessing\n",
    "from sklearn.ensemble import RandomForestClassifier\n",
    "from sklearn.linear_model import LogisticRegression\n",
    "from sklearn.ensemble import GradientBoostingClassifier\n",
    "from sklearn.neural_network import MLPClassifier\n",
    "from sklearn.model_selection import train_test_split\n",
    "from sklearn.inspection import permutation_importance\n",
    "import matplotlib.pyplot as plt"
   ]
  },
  {
   "cell_type": "code",
   "execution_count": 2,
   "metadata": {
    "tags": [
     "remove_cell"
    ]
   },
   "outputs": [
    {
     "data": {
      "text/html": [
       "<div>\n",
       "<style scoped>\n",
       "    .dataframe tbody tr th:only-of-type {\n",
       "        vertical-align: middle;\n",
       "    }\n",
       "\n",
       "    .dataframe tbody tr th {\n",
       "        vertical-align: top;\n",
       "    }\n",
       "\n",
       "    .dataframe thead th {\n",
       "        text-align: right;\n",
       "    }\n",
       "</style>\n",
       "<table border=\"1\" class=\"dataframe\">\n",
       "  <thead>\n",
       "    <tr style=\"text-align: right;\">\n",
       "      <th></th>\n",
       "      <th>Survived</th>\n",
       "      <th>Pclass</th>\n",
       "      <th>Name</th>\n",
       "      <th>Sex</th>\n",
       "      <th>Age</th>\n",
       "      <th>Siblings/Spouses Aboard</th>\n",
       "      <th>Parents/Children Aboard</th>\n",
       "      <th>Fare</th>\n",
       "    </tr>\n",
       "  </thead>\n",
       "  <tbody>\n",
       "    <tr>\n",
       "      <th>0</th>\n",
       "      <td>0</td>\n",
       "      <td>3</td>\n",
       "      <td>Mr. Owen Harris Braund</td>\n",
       "      <td>male</td>\n",
       "      <td>22.0</td>\n",
       "      <td>1</td>\n",
       "      <td>0</td>\n",
       "      <td>7.2500</td>\n",
       "    </tr>\n",
       "    <tr>\n",
       "      <th>1</th>\n",
       "      <td>1</td>\n",
       "      <td>1</td>\n",
       "      <td>Mrs. John Bradley (Florence Briggs Thayer) Cum...</td>\n",
       "      <td>female</td>\n",
       "      <td>38.0</td>\n",
       "      <td>1</td>\n",
       "      <td>0</td>\n",
       "      <td>71.2833</td>\n",
       "    </tr>\n",
       "    <tr>\n",
       "      <th>2</th>\n",
       "      <td>1</td>\n",
       "      <td>3</td>\n",
       "      <td>Miss. Laina Heikkinen</td>\n",
       "      <td>female</td>\n",
       "      <td>26.0</td>\n",
       "      <td>0</td>\n",
       "      <td>0</td>\n",
       "      <td>7.9250</td>\n",
       "    </tr>\n",
       "    <tr>\n",
       "      <th>3</th>\n",
       "      <td>1</td>\n",
       "      <td>1</td>\n",
       "      <td>Mrs. Jacques Heath (Lily May Peel) Futrelle</td>\n",
       "      <td>female</td>\n",
       "      <td>35.0</td>\n",
       "      <td>1</td>\n",
       "      <td>0</td>\n",
       "      <td>53.1000</td>\n",
       "    </tr>\n",
       "    <tr>\n",
       "      <th>4</th>\n",
       "      <td>0</td>\n",
       "      <td>3</td>\n",
       "      <td>Mr. William Henry Allen</td>\n",
       "      <td>male</td>\n",
       "      <td>35.0</td>\n",
       "      <td>0</td>\n",
       "      <td>0</td>\n",
       "      <td>8.0500</td>\n",
       "    </tr>\n",
       "  </tbody>\n",
       "</table>\n",
       "</div>"
      ],
      "text/plain": [
       "   Survived  Pclass                                               Name  \\\n",
       "0         0       3                             Mr. Owen Harris Braund   \n",
       "1         1       1  Mrs. John Bradley (Florence Briggs Thayer) Cum...   \n",
       "2         1       3                              Miss. Laina Heikkinen   \n",
       "3         1       1        Mrs. Jacques Heath (Lily May Peel) Futrelle   \n",
       "4         0       3                            Mr. William Henry Allen   \n",
       "\n",
       "      Sex   Age  Siblings/Spouses Aboard  Parents/Children Aboard     Fare  \n",
       "0    male  22.0                        1                        0   7.2500  \n",
       "1  female  38.0                        1                        0  71.2833  \n",
       "2  female  26.0                        0                        0   7.9250  \n",
       "3  female  35.0                        1                        0  53.1000  \n",
       "4    male  35.0                        0                        0   8.0500  "
      ]
     },
     "execution_count": 2,
     "metadata": {},
     "output_type": "execute_result"
    }
   ],
   "source": [
    "data = pd.read_csv(\"titanic.csv\")\n",
    "data.head()"
   ]
  },
  {
   "cell_type": "markdown",
   "metadata": {},
   "source": [
    "The goal is to predict wether passenger survived, that is value of column \"Survived\". Protected variable will be \"Sex\"."
   ]
  },
  {
   "cell_type": "code",
   "execution_count": 3,
   "metadata": {
    "tags": [
     "remove_cell"
    ]
   },
   "outputs": [
    {
     "name": "stdout",
     "output_type": "stream",
     "text": [
      "Number of rows: 887\n"
     ]
    }
   ],
   "source": [
    "X = data.drop(columns=[\"Survived\", \"Name\"])\n",
    "X = pd.get_dummies(X)\n",
    "y = data[\"Survived\"]\n",
    "\n",
    "print(\"Number of rows: %d\" % len(y))"
   ]
  },
  {
   "cell_type": "markdown",
   "metadata": {},
   "source": [
    "Let's train and evaluate Random Forest model. Using 20% of data as test set."
   ]
  },
  {
   "cell_type": "code",
   "execution_count": 4,
   "metadata": {
    "tags": [
     "remove_cell"
    ]
   },
   "outputs": [
    {
     "name": "stdout",
     "output_type": "stream",
     "text": [
      "Accuracy: 0.831461\n"
     ]
    }
   ],
   "source": [
    "X_train, X_test, y_train, y_test = train_test_split(X, y, test_size=0.2, random_state=3234)\n",
    "classifier = RandomForestClassifier()\n",
    "classifier.fit(X_train, y_train)\n",
    "pred = classifier.predict(X_test)\n",
    "acc = np.mean(pred == y_test)\n",
    "print(\"Accuracy: %f\" % acc)"
   ]
  },
  {
   "cell_type": "markdown",
   "metadata": {},
   "source": [
    "Now let's examine fairness metrics of trained model."
   ]
  },
  {
   "cell_type": "code",
   "execution_count": 5,
   "metadata": {
    "tags": [
     "remove_cell"
    ]
   },
   "outputs": [
    {
     "data": {
      "image/png": "[encoded data removed]",
      "text/plain": [
       "<Figure size 432x288 with 1 Axes>"
      ]
     },
     "metadata": {
      "needs_background": "light"
     },
     "output_type": "display_data"
    }
   ],
   "source": [
    "def compute_statistics(y, pred):\n",
    "    TP = np.sum((pred == 1) & (y == 1))\n",
    "    FP = np.sum((pred == 1) & (y == 0))\n",
    "    TN = np.sum((pred == 0) & (y == 0))\n",
    "    FN = np.sum((pred == 0) & (y == 1))\n",
    "    accuracy_equality = (TP + TN) / len(y)\n",
    "    equal_opportunity = TP / (TP + FN)\n",
    "    predictive_equality = FP / (FP + TN)\n",
    "    predictive_parity = TP / (TP + FP)\n",
    "    statistical_parity = (TP + FP) / len(y)\n",
    "    return np.array([accuracy_equality, equal_opportunity, predictive_equality, predictive_parity, statistical_parity])\n",
    "\n",
    "def plot_fairness(classifier, X_test, y_test, title):\n",
    "    X_test_men = X_test[X_test[\"Sex_male\"] == 1]\n",
    "    pred_men = classifier.predict(X_test_men)\n",
    "    y_men = y_test[X_test[\"Sex_male\"] == 1]\n",
    "    X_test_women = X_test[X_test[\"Sex_female\"] == 1]\n",
    "    pred_women = classifier.predict(X_test_women)\n",
    "    y_women = y_test[X_test[\"Sex_female\"] == 1]\n",
    "    pred = classifier.predict(X_test)\n",
    "\n",
    "    stat_men = compute_statistics(y_men, pred_men)\n",
    "    stat_women = compute_statistics(y_women, pred_women)\n",
    "    stat_all = compute_statistics(y_test, pred)\n",
    "    stat_men /= stat_all\n",
    "    stat_women /= stat_all\n",
    "\n",
    "    width = 0.8\n",
    "    metrics = [\"Accuracy equality\", \"Equal opportunity\", \"Predictive equality\", \"Predictive parity\", \"Statistical parity\"]\n",
    "    x = np.arange(len(metrics)) * 2\n",
    "    fig, ax = plt.subplots()\n",
    "\n",
    "    ax.set_title(title)\n",
    "    p_men = ax.barh(x - width / 2, stat_men, label=\"Men\")\n",
    "    p_women = ax.barh(x + width / 2, stat_women, label=\"Women\")\n",
    "    ax.set_yticks(x)\n",
    "    ax.set_yticklabels(metrics)\n",
    "    ax.legend()\n",
    "\n",
    "    plt.show()\n",
    "\n",
    "plot_fairness(classifier, X_test, y_test, \"Random Forest fairness metrics\")"
   ]
  },
  {
   "cell_type": "markdown",
   "metadata": {},
   "source": [
    "Let's train 3 more models: Logistic Regression, Boosting and Neural Network to compare metrics"
   ]
  },
  {
   "cell_type": "code",
   "execution_count": 6,
   "metadata": {
    "tags": [
     "remove_cell"
    ]
   },
   "outputs": [
    {
     "name": "stdout",
     "output_type": "stream",
     "text": [
      "Logistic Regression Accuracy: 0.786517\n",
      "Boosting Accuracy: 0.814607\n",
      "Neural Network Accuracy: 0.820225\n"
     ]
    }
   ],
   "source": [
    "logistic_classifier = LogisticRegression(max_iter=300).fit(X_train, y_train)\n",
    "pred_log = logistic_classifier.predict(X_test)\n",
    "acc = np.mean(pred_log == y_test)\n",
    "print(\"Logistic Regression Accuracy: %f\" % acc)\n",
    "\n",
    "boosting_classifier = GradientBoostingClassifier().fit(X_train, y_train)\n",
    "pred_boost = boosting_classifier.predict(X_test)\n",
    "acc = np.mean(pred_boost == y_test)\n",
    "print(\"Boosting Accuracy: %f\" % acc)\n",
    "\n",
    "neural_classifier = MLPClassifier(max_iter=300).fit(X_train, y_train)\n",
    "pred_nn = neural_classifier.predict(X_test)\n",
    "acc = np.mean(pred_nn == y_test)\n",
    "print(\"Neural Network Accuracy: %f\" % acc)"
   ]
  },
  {
   "cell_type": "markdown",
   "metadata": {},
   "source": [
    "Let's now examine their fairness metrics"
   ]
  },
  {
   "cell_type": "code",
   "execution_count": 7,
   "metadata": {
    "tags": [
     "remove_cell"
    ]
   },
   "outputs": [
    {
     "data": {
      "image/png": "[encoded data removed]",
      "text/plain": [
       "<Figure size 432x288 with 1 Axes>"
      ]
     },
     "metadata": {
      "needs_background": "light"
     },
     "output_type": "display_data"
    },
    {
     "data": {
      "image/png": "[encoded data removed]",
      "text/plain": [
       "<Figure size 432x288 with 1 Axes>"
      ]
     },
     "metadata": {
      "needs_background": "light"
     },
     "output_type": "display_data"
    },
    {
     "data": {
      "image/png": "[encoded data removed]",
      "text/plain": [
       "<Figure size 432x288 with 1 Axes>"
      ]
     },
     "metadata": {
      "needs_background": "light"
     },
     "output_type": "display_data"
    }
   ],
   "source": [
    "plot_fairness(logistic_classifier, X_test, y_test, \"Logistic Regression fairness metrics\")\n",
    "plot_fairness(boosting_classifier, X_test, y_test, \"Boosting fairness metrics\")\n",
    "plot_fairness(neural_classifier, X_test, y_test, \"Neural Network fairness metrics\")"
   ]
  },
  {
   "cell_type": "markdown",
   "metadata": {},
   "source": [
    "As we see, the results for different networks are quite simillar. The most notable difference is that random forrest has better predictive equality, but it is still quite unbalanced.\n",
    "\n",
    "For all models predictive equality is very imbalanced, what means that chance of getting false positive result is much higher for women than men. Another imbalanced metrics are Statistical parity, what means that models predict survival of women more often than men, and Equal opportunity, what means that chance of true positive result is higher for women than men. The remaining metrics: Predictive parity and Accuracy equality are balanced, what means that positive result is correct with simillar probability in both groups, and that accuracy is simillar in both groups."
   ]
  },
  {
   "cell_type": "markdown",
   "metadata": {},
   "source": [
    "## Appendix: code"
   ]
  },
  {
   "cell_type": "code",
   "execution_count": null,
   "metadata": {},
   "outputs": [],
   "source": [
    "import numpy as np\n",
    "import pandas as pd\n",
    "from sklearn import preprocessing\n",
    "from sklearn.ensemble import RandomForestClassifier\n",
    "from sklearn.linear_model import LogisticRegression\n",
    "from sklearn.ensemble import GradientBoostingClassifier\n",
    "from sklearn.neural_network import MLPClassifier\n",
    "from sklearn.model_selection import train_test_split\n",
    "from sklearn.inspection import permutation_importance\n",
    "import matplotlib.pyplot as plt\n",
    "\n",
    "data = pd.read_csv(\"titanic.csv\")\n",
    "data.head()\n",
    "\n",
    "X = data.drop(columns=[\"Survived\", \"Name\"])\n",
    "X = pd.get_dummies(X)\n",
    "y = data[\"Survived\"]\n",
    "\n",
    "print(\"Number of rows: %d\" % len(y))\n",
    "\n",
    "X_train, X_test, y_train, y_test = train_test_split(X, y, test_size=0.2, random_state=3234)\n",
    "classifier = RandomForestClassifier()\n",
    "classifier.fit(X_train, y_train)\n",
    "pred = classifier.predict(X_test)\n",
    "acc = np.mean(pred == y_test)\n",
    "print(\"Accuracy: %f\" % acc)\n",
    "\n",
    "def compute_statistics(y, pred):\n",
    "    TP = np.sum((pred == 1) & (y == 1))\n",
    "    FP = np.sum((pred == 1) & (y == 0))\n",
    "    TN = np.sum((pred == 0) & (y == 0))\n",
    "    FN = np.sum((pred == 0) & (y == 1))\n",
    "    accuracy_equality = (TP + TN) / len(y)\n",
    "    equal_opportunity = TP / (TP + FN)\n",
    "    predictive_equality = FP / (FP + TN)\n",
    "    predictive_parity = TP / (TP + FP)\n",
    "    statistical_parity = (TP + FP) / len(y)\n",
    "    return np.array([accuracy_equality, equal_opportunity, predictive_equality, predictive_parity, statistical_parity])\n",
    "\n",
    "def plot_fairness(classifier, X_test, y_test, title):\n",
    "    X_test_men = X_test[X_test[\"Sex_male\"] == 1]\n",
    "    pred_men = classifier.predict(X_test_men)\n",
    "    y_men = y_test[X_test[\"Sex_male\"] == 1]\n",
    "    X_test_women = X_test[X_test[\"Sex_female\"] == 1]\n",
    "    pred_women = classifier.predict(X_test_women)\n",
    "    y_women = y_test[X_test[\"Sex_female\"] == 1]\n",
    "    pred = classifier.predict(X_test)\n",
    "\n",
    "    stat_men = compute_statistics(y_men, pred_men)\n",
    "    stat_women = compute_statistics(y_women, pred_women)\n",
    "    stat_all = compute_statistics(y_test, pred)\n",
    "    stat_men /= stat_all\n",
    "    stat_women /= stat_all\n",
    "\n",
    "    width = 0.8\n",
    "    metrics = [\"Accuracy equality\", \"Equal opportunity\", \"Predictive equality\", \"Predictive parity\", \"Statistical parity\"]\n",
    "    x = np.arange(len(metrics)) * 2\n",
    "    fig, ax = plt.subplots()\n",
    "\n",
    "    ax.set_title(title)\n",
    "    p_men = ax.barh(x - width / 2, stat_men, label=\"Men\")\n",
    "    p_women = ax.barh(x + width / 2, stat_women, label=\"Women\")\n",
    "    ax.set_yticks(x)\n",
    "    ax.set_yticklabels(metrics)\n",
    "    ax.legend()\n",
    "\n",
    "    plt.show()\n",
    "\n",
    "plot_fairness(classifier, X_test, y_test, \"Random Forest fairness metrics\")\n",
    "\n",
    "logistic_classifier = LogisticRegression(max_iter=300).fit(X_train, y_train)\n",
    "pred_log = logistic_classifier.predict(X_test)\n",
    "acc = np.mean(pred_log == y_test)\n",
    "print(\"Logistic Regression Accuracy: %f\" % acc)\n",
    "\n",
    "boosting_classifier = GradientBoostingClassifier().fit(X_train, y_train)\n",
    "pred_boost = boosting_classifier.predict(X_test)\n",
    "acc = np.mean(pred_boost == y_test)\n",
    "print(\"Boosting Accuracy: %f\" % acc)\n",
    "\n",
    "neural_classifier = MLPClassifier(max_iter=300).fit(X_train, y_train)\n",
    "pred_nn = neural_classifier.predict(X_test)\n",
    "acc = np.mean(pred_nn == y_test)\n",
    "print(\"Neural Network Accuracy: %f\" % acc)\n",
    "\n",
    "plot_fairness(logistic_classifier, X_test, y_test, \"Logistic Regression fairness metrics\")\n",
    "plot_fairness(boosting_classifier, X_test, y_test, \"Boosting fairness metrics\")\n",
    "plot_fairness(neural_classifier, X_test, y_test, \"Neural Network fairness metrics\")"
   ]
  }
 ],
 "metadata": {
  "celltoolbar": "Edit Metadata",
  "kernelspec": {
   "display_name": "Python 3",
   "language": "python",
   "name": "python3"
  },
  "language_info": {
   "codemirror_mode": {
    "name": "ipython",
    "version": 3
   },
   "file_extension": ".py",
   "mimetype": "text/x-python",
   "name": "python",
   "nbconvert_exporter": "python",
   "pygments_lexer": "ipython3",
   "version": "3.9.4"
  },
  "name": "Mushroom_classification.ipynb"
 },
 "nbformat": 4,
 "nbformat_minor": 4
}
