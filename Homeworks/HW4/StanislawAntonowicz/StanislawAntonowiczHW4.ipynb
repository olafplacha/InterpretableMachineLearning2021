{
 "cells": [
  {
   "cell_type": "markdown",
   "id": "ignored-roommate",
   "metadata": {},
   "source": [
    "# Homework 4\n",
    "### Stanisław Antonowicz\n",
    "\n",
    "As with the previous homeworks, I'm using the mushroom dataset. It might not be the best one for Ceteris Paribus plots (because all features are categorical), but maybe I'll by able to draw some meaningful conclusions."
   ]
  },
  {
   "cell_type": "code",
   "execution_count": 11,
   "id": "warming-reliance",
   "metadata": {
    "tags": [
     "hide"
    ]
   },
   "outputs": [],
   "source": [
    "import pandas as pd\n",
    "from sklearn.ensemble import RandomForestClassifier\n",
    "from sklearn.neural_network import MLPClassifier\n",
    "from sklearn.preprocessing import OneHotEncoder, LabelEncoder\n",
    "from sklearn.model_selection import train_test_split\n",
    "from sklearn.metrics import classification_report\n",
    "from sklearn.compose import ColumnTransformer\n",
    "from sklearn.pipeline import Pipeline\n",
    "import numpy as np\n",
    "import ceteris_paribus"
   ]
  },
  {
   "cell_type": "markdown",
   "id": "typical-filename",
   "metadata": {},
   "source": [
    "### Loading data\n",
    "\n",
    "Quick look at the data to remind us how it looks:"
   ]
  },
  {
   "cell_type": "code",
   "execution_count": 4,
   "id": "normal-jordan",
   "metadata": {
    "tags": [
     "hide"
    ]
   },
   "outputs": [],
   "source": [
    "data = np.genfromtxt('dataset_24_mushroom.csv', delimiter=',', dtype='<U20', skip_header=1)\n",
    "labels = data[:,-1]\n",
    "label_encoder = LabelEncoder()\n",
    "label_encoder.fit(labels)\n",
    "labels = label_encoder.transform(labels)\n",
    "class_names = label_encoder.classes_\n",
    "data = data[:,:-1]\n",
    "\n",
    "categorical_features = list(range(22))\n",
    "\n",
    "\n",
    "categorical_names = \"\"\"1. cap-shape: bell=b,conical=c,convex=x,flat=f,knobbed=k,sunken=s \n",
    "2. cap-surface: fibrous=f,grooves=g,scaly=y,smooth=s  \n",
    "3. cap-color: brown=n,buff=b,cinnamon=c,gray=g,green=r,pink=p,purple=u,red=e,white=w,yellow=y  \n",
    "4. bruises?: bruises=t,no=f  \n",
    "5. odor: almond=a,anise=l,creosote=c,fishy=y,foul=f,musty=m,none=n,pungent=p,spicy=s  \n",
    "6. gill-attachment: attached=a,descending=d,free=f,notched=n  \n",
    "7. gill-spacing: close=c,crowded=w,distant=d  \n",
    "8. gill-size: broad=b,narrow=n  \n",
    "9. gill-color: black=k,brown=n,buff=b,chocolate=h,gray=g,green=r,orange=o,pink=p,purple=u,red=e, white=w,yellow=y  \n",
    "10. stalk-shape: enlarging=e,tapering=t  \n",
    "11. stalk-root: bulbous=b,club=c,cup=u,equal=e,rhizomorphs=z,rooted=r,missing=?  \n",
    "12. stalk-surface-above-ring: fibrous=f,scaly=y,silky=k,smooth=s  \n",
    "13. stalk-surface-below-ring: fibrous=f,scaly=y,silky=k,smooth=s  \n",
    "14. stalk-color-above-ring: brown=n,buff=b,cinnamon=c,gray=g,orange=o,pink=p,red=e,white=w,yellow=y  \n",
    "15. stalk-color-below-ring: brown=n,buff=b,cinnamon=c,gray=g,orange=o,pink=p,red=e,white=w,yellow=y  \n",
    "16. veil-type: partial=p,universal=u  \n",
    "17. veil-color: brown=n,orange=o,white=w,yellow=y  \n",
    "18. ring-number: none=n,one=o,two=t  \n",
    "19. ring-type: cobwebby=c,evanescent=e,flaring=f,large=l,none=n,pendant=p,sheathing=s,zone=z  \n",
    "20. spore-print-color: black=k,brown=n,buff=b,chocolate=h,green=r,orange=o,purple=u,white=w,yellow=y  \n",
    "21. population: abundant=a,clustered=c,numerous=n,scattered=s,several=v,solitary=y  \n",
    "22. habitat: grasses=g,leaves=l,meadows=m,paths=p,urban=u,waste=w,woods=d\"\"\".split('\\n')\n",
    "\n",
    "feature_names = []\n",
    "for ind, line in enumerate(categorical_names):\n",
    "    vals = line.strip().split('. ')[1]\n",
    "    feature_name, values = vals.split(': ')\n",
    "    feature_names.append(feature_name.strip())\n",
    "    values = {x.split('=')[1]: x.split('=')[0] for x in values.split(',')}\n",
    "    data[:,ind] = np.array([values[x.strip(\"'\")] for x in data[:,ind]])\n",
    "\n",
    "data = pd.DataFrame(data)\n",
    "data.columns = feature_names"
   ]
  },
  {
   "cell_type": "code",
   "execution_count": 23,
   "id": "intimate-maryland",
   "metadata": {
    "tags": [
     "hide"
    ]
   },
   "outputs": [
    {
     "data": {
      "text/html": [
       "<div>\n",
       "<style scoped>\n",
       "    .dataframe tbody tr th:only-of-type {\n",
       "        vertical-align: middle;\n",
       "    }\n",
       "\n",
       "    .dataframe tbody tr th {\n",
       "        vertical-align: top;\n",
       "    }\n",
       "\n",
       "    .dataframe thead th {\n",
       "        text-align: right;\n",
       "    }\n",
       "</style>\n",
       "<table border=\"1\" class=\"dataframe\">\n",
       "  <thead>\n",
       "    <tr style=\"text-align: right;\">\n",
       "      <th></th>\n",
       "      <th>cap-shape</th>\n",
       "      <th>cap-surface</th>\n",
       "      <th>cap-color</th>\n",
       "      <th>bruises?</th>\n",
       "      <th>odor</th>\n",
       "      <th>gill-attachment</th>\n",
       "      <th>gill-spacing</th>\n",
       "      <th>gill-size</th>\n",
       "      <th>gill-color</th>\n",
       "      <th>stalk-shape</th>\n",
       "      <th>...</th>\n",
       "      <th>stalk-surface-below-ring</th>\n",
       "      <th>stalk-color-above-ring</th>\n",
       "      <th>stalk-color-below-ring</th>\n",
       "      <th>veil-type</th>\n",
       "      <th>veil-color</th>\n",
       "      <th>ring-number</th>\n",
       "      <th>ring-type</th>\n",
       "      <th>spore-print-color</th>\n",
       "      <th>population</th>\n",
       "      <th>habitat</th>\n",
       "    </tr>\n",
       "  </thead>\n",
       "  <tbody>\n",
       "    <tr>\n",
       "      <th>0</th>\n",
       "      <td>convex</td>\n",
       "      <td>smooth</td>\n",
       "      <td>brown</td>\n",
       "      <td>bruises</td>\n",
       "      <td>pungent</td>\n",
       "      <td>free</td>\n",
       "      <td>close</td>\n",
       "      <td>narrow</td>\n",
       "      <td>black</td>\n",
       "      <td>enlarging</td>\n",
       "      <td>...</td>\n",
       "      <td>smooth</td>\n",
       "      <td>white</td>\n",
       "      <td>white</td>\n",
       "      <td>partial</td>\n",
       "      <td>white</td>\n",
       "      <td>one</td>\n",
       "      <td>pendant</td>\n",
       "      <td>black</td>\n",
       "      <td>scattered</td>\n",
       "      <td>urban</td>\n",
       "    </tr>\n",
       "    <tr>\n",
       "      <th>1</th>\n",
       "      <td>convex</td>\n",
       "      <td>smooth</td>\n",
       "      <td>yellow</td>\n",
       "      <td>bruises</td>\n",
       "      <td>almond</td>\n",
       "      <td>free</td>\n",
       "      <td>close</td>\n",
       "      <td>broad</td>\n",
       "      <td>black</td>\n",
       "      <td>enlarging</td>\n",
       "      <td>...</td>\n",
       "      <td>smooth</td>\n",
       "      <td>white</td>\n",
       "      <td>white</td>\n",
       "      <td>partial</td>\n",
       "      <td>white</td>\n",
       "      <td>one</td>\n",
       "      <td>pendant</td>\n",
       "      <td>brown</td>\n",
       "      <td>numerous</td>\n",
       "      <td>grasses</td>\n",
       "    </tr>\n",
       "    <tr>\n",
       "      <th>2</th>\n",
       "      <td>bell</td>\n",
       "      <td>smooth</td>\n",
       "      <td>white</td>\n",
       "      <td>bruises</td>\n",
       "      <td>anise</td>\n",
       "      <td>free</td>\n",
       "      <td>close</td>\n",
       "      <td>broad</td>\n",
       "      <td>brown</td>\n",
       "      <td>enlarging</td>\n",
       "      <td>...</td>\n",
       "      <td>smooth</td>\n",
       "      <td>white</td>\n",
       "      <td>white</td>\n",
       "      <td>partial</td>\n",
       "      <td>white</td>\n",
       "      <td>one</td>\n",
       "      <td>pendant</td>\n",
       "      <td>brown</td>\n",
       "      <td>numerous</td>\n",
       "      <td>meadows</td>\n",
       "    </tr>\n",
       "    <tr>\n",
       "      <th>3</th>\n",
       "      <td>convex</td>\n",
       "      <td>scaly</td>\n",
       "      <td>white</td>\n",
       "      <td>bruises</td>\n",
       "      <td>pungent</td>\n",
       "      <td>free</td>\n",
       "      <td>close</td>\n",
       "      <td>narrow</td>\n",
       "      <td>brown</td>\n",
       "      <td>enlarging</td>\n",
       "      <td>...</td>\n",
       "      <td>smooth</td>\n",
       "      <td>white</td>\n",
       "      <td>white</td>\n",
       "      <td>partial</td>\n",
       "      <td>white</td>\n",
       "      <td>one</td>\n",
       "      <td>pendant</td>\n",
       "      <td>black</td>\n",
       "      <td>scattered</td>\n",
       "      <td>urban</td>\n",
       "    </tr>\n",
       "    <tr>\n",
       "      <th>4</th>\n",
       "      <td>convex</td>\n",
       "      <td>smooth</td>\n",
       "      <td>gray</td>\n",
       "      <td>no</td>\n",
       "      <td>none</td>\n",
       "      <td>free</td>\n",
       "      <td>crowded</td>\n",
       "      <td>broad</td>\n",
       "      <td>black</td>\n",
       "      <td>tapering</td>\n",
       "      <td>...</td>\n",
       "      <td>smooth</td>\n",
       "      <td>white</td>\n",
       "      <td>white</td>\n",
       "      <td>partial</td>\n",
       "      <td>white</td>\n",
       "      <td>one</td>\n",
       "      <td>evanescent</td>\n",
       "      <td>brown</td>\n",
       "      <td>abundant</td>\n",
       "      <td>grasses</td>\n",
       "    </tr>\n",
       "    <tr>\n",
       "      <th>...</th>\n",
       "      <td>...</td>\n",
       "      <td>...</td>\n",
       "      <td>...</td>\n",
       "      <td>...</td>\n",
       "      <td>...</td>\n",
       "      <td>...</td>\n",
       "      <td>...</td>\n",
       "      <td>...</td>\n",
       "      <td>...</td>\n",
       "      <td>...</td>\n",
       "      <td>...</td>\n",
       "      <td>...</td>\n",
       "      <td>...</td>\n",
       "      <td>...</td>\n",
       "      <td>...</td>\n",
       "      <td>...</td>\n",
       "      <td>...</td>\n",
       "      <td>...</td>\n",
       "      <td>...</td>\n",
       "      <td>...</td>\n",
       "      <td>...</td>\n",
       "    </tr>\n",
       "    <tr>\n",
       "      <th>8119</th>\n",
       "      <td>knobbed</td>\n",
       "      <td>smooth</td>\n",
       "      <td>brown</td>\n",
       "      <td>no</td>\n",
       "      <td>none</td>\n",
       "      <td>attached</td>\n",
       "      <td>close</td>\n",
       "      <td>broad</td>\n",
       "      <td>yellow</td>\n",
       "      <td>enlarging</td>\n",
       "      <td>...</td>\n",
       "      <td>smooth</td>\n",
       "      <td>orange</td>\n",
       "      <td>orange</td>\n",
       "      <td>partial</td>\n",
       "      <td>orange</td>\n",
       "      <td>one</td>\n",
       "      <td>pendant</td>\n",
       "      <td>buff</td>\n",
       "      <td>clustered</td>\n",
       "      <td>leaves</td>\n",
       "    </tr>\n",
       "    <tr>\n",
       "      <th>8120</th>\n",
       "      <td>convex</td>\n",
       "      <td>smooth</td>\n",
       "      <td>brown</td>\n",
       "      <td>no</td>\n",
       "      <td>none</td>\n",
       "      <td>attached</td>\n",
       "      <td>close</td>\n",
       "      <td>broad</td>\n",
       "      <td>yellow</td>\n",
       "      <td>enlarging</td>\n",
       "      <td>...</td>\n",
       "      <td>smooth</td>\n",
       "      <td>orange</td>\n",
       "      <td>orange</td>\n",
       "      <td>partial</td>\n",
       "      <td>brown</td>\n",
       "      <td>one</td>\n",
       "      <td>pendant</td>\n",
       "      <td>buff</td>\n",
       "      <td>several</td>\n",
       "      <td>leaves</td>\n",
       "    </tr>\n",
       "    <tr>\n",
       "      <th>8121</th>\n",
       "      <td>flat</td>\n",
       "      <td>smooth</td>\n",
       "      <td>brown</td>\n",
       "      <td>no</td>\n",
       "      <td>none</td>\n",
       "      <td>attached</td>\n",
       "      <td>close</td>\n",
       "      <td>broad</td>\n",
       "      <td>brown</td>\n",
       "      <td>enlarging</td>\n",
       "      <td>...</td>\n",
       "      <td>smooth</td>\n",
       "      <td>orange</td>\n",
       "      <td>orange</td>\n",
       "      <td>partial</td>\n",
       "      <td>orange</td>\n",
       "      <td>one</td>\n",
       "      <td>pendant</td>\n",
       "      <td>buff</td>\n",
       "      <td>clustered</td>\n",
       "      <td>leaves</td>\n",
       "    </tr>\n",
       "    <tr>\n",
       "      <th>8122</th>\n",
       "      <td>knobbed</td>\n",
       "      <td>scaly</td>\n",
       "      <td>brown</td>\n",
       "      <td>no</td>\n",
       "      <td>fishy</td>\n",
       "      <td>free</td>\n",
       "      <td>close</td>\n",
       "      <td>narrow</td>\n",
       "      <td>buff</td>\n",
       "      <td>tapering</td>\n",
       "      <td>...</td>\n",
       "      <td>silky</td>\n",
       "      <td>white</td>\n",
       "      <td>white</td>\n",
       "      <td>partial</td>\n",
       "      <td>white</td>\n",
       "      <td>one</td>\n",
       "      <td>evanescent</td>\n",
       "      <td>white</td>\n",
       "      <td>several</td>\n",
       "      <td>leaves</td>\n",
       "    </tr>\n",
       "    <tr>\n",
       "      <th>8123</th>\n",
       "      <td>convex</td>\n",
       "      <td>smooth</td>\n",
       "      <td>brown</td>\n",
       "      <td>no</td>\n",
       "      <td>none</td>\n",
       "      <td>attached</td>\n",
       "      <td>close</td>\n",
       "      <td>broad</td>\n",
       "      <td>yellow</td>\n",
       "      <td>enlarging</td>\n",
       "      <td>...</td>\n",
       "      <td>smooth</td>\n",
       "      <td>orange</td>\n",
       "      <td>orange</td>\n",
       "      <td>partial</td>\n",
       "      <td>orange</td>\n",
       "      <td>one</td>\n",
       "      <td>pendant</td>\n",
       "      <td>orange</td>\n",
       "      <td>clustered</td>\n",
       "      <td>leaves</td>\n",
       "    </tr>\n",
       "  </tbody>\n",
       "</table>\n",
       "<p>8124 rows × 22 columns</p>\n",
       "</div>"
      ],
      "text/plain": [
       "     cap-shape cap-surface cap-color bruises?     odor gill-attachment  \\\n",
       "0       convex      smooth     brown  bruises  pungent            free   \n",
       "1       convex      smooth    yellow  bruises   almond            free   \n",
       "2         bell      smooth     white  bruises    anise            free   \n",
       "3       convex       scaly     white  bruises  pungent            free   \n",
       "4       convex      smooth      gray       no     none            free   \n",
       "...        ...         ...       ...      ...      ...             ...   \n",
       "8119   knobbed      smooth     brown       no     none        attached   \n",
       "8120    convex      smooth     brown       no     none        attached   \n",
       "8121      flat      smooth     brown       no     none        attached   \n",
       "8122   knobbed       scaly     brown       no    fishy            free   \n",
       "8123    convex      smooth     brown       no     none        attached   \n",
       "\n",
       "     gill-spacing gill-size gill-color stalk-shape  ...  \\\n",
       "0           close    narrow      black   enlarging  ...   \n",
       "1           close     broad      black   enlarging  ...   \n",
       "2           close     broad      brown   enlarging  ...   \n",
       "3           close    narrow      brown   enlarging  ...   \n",
       "4         crowded     broad      black    tapering  ...   \n",
       "...           ...       ...        ...         ...  ...   \n",
       "8119        close     broad     yellow   enlarging  ...   \n",
       "8120        close     broad     yellow   enlarging  ...   \n",
       "8121        close     broad      brown   enlarging  ...   \n",
       "8122        close    narrow       buff    tapering  ...   \n",
       "8123        close     broad     yellow   enlarging  ...   \n",
       "\n",
       "     stalk-surface-below-ring stalk-color-above-ring stalk-color-below-ring  \\\n",
       "0                      smooth                  white                  white   \n",
       "1                      smooth                  white                  white   \n",
       "2                      smooth                  white                  white   \n",
       "3                      smooth                  white                  white   \n",
       "4                      smooth                  white                  white   \n",
       "...                       ...                    ...                    ...   \n",
       "8119                   smooth                 orange                 orange   \n",
       "8120                   smooth                 orange                 orange   \n",
       "8121                   smooth                 orange                 orange   \n",
       "8122                    silky                  white                  white   \n",
       "8123                   smooth                 orange                 orange   \n",
       "\n",
       "     veil-type veil-color ring-number   ring-type spore-print-color  \\\n",
       "0      partial      white         one     pendant             black   \n",
       "1      partial      white         one     pendant             brown   \n",
       "2      partial      white         one     pendant             brown   \n",
       "3      partial      white         one     pendant             black   \n",
       "4      partial      white         one  evanescent             brown   \n",
       "...        ...        ...         ...         ...               ...   \n",
       "8119   partial     orange         one     pendant              buff   \n",
       "8120   partial      brown         one     pendant              buff   \n",
       "8121   partial     orange         one     pendant              buff   \n",
       "8122   partial      white         one  evanescent             white   \n",
       "8123   partial     orange         one     pendant            orange   \n",
       "\n",
       "     population  habitat  \n",
       "0     scattered    urban  \n",
       "1      numerous  grasses  \n",
       "2      numerous  meadows  \n",
       "3     scattered    urban  \n",
       "4      abundant  grasses  \n",
       "...         ...      ...  \n",
       "8119  clustered   leaves  \n",
       "8120    several   leaves  \n",
       "8121  clustered   leaves  \n",
       "8122    several   leaves  \n",
       "8123  clustered   leaves  \n",
       "\n",
       "[8124 rows x 22 columns]"
      ]
     },
     "execution_count": 23,
     "metadata": {},
     "output_type": "execute_result"
    }
   ],
   "source": [
    "data"
   ]
  },
  {
   "cell_type": "code",
   "execution_count": 6,
   "id": "cathedral-empire",
   "metadata": {
    "tags": [
     "hide"
    ]
   },
   "outputs": [],
   "source": [
    "X_train, X_test, y_train, y_test = train_test_split(data, labels, test_size=0.2, random_state=42)"
   ]
  },
  {
   "cell_type": "code",
   "execution_count": 7,
   "id": "thorough-purse",
   "metadata": {
    "tags": [
     "hide"
    ]
   },
   "outputs": [],
   "source": [
    "categorical_features = data.columns\n",
    "categorical_transformer = Pipeline(\n",
    "    steps=[\n",
    "        ('one_hot_encoder', OneHotEncoder())\n",
    "    ]\n",
    ")\n",
    "\n",
    "\n",
    "transformer = ColumnTransformer(\n",
    "    transformers=[\n",
    "        ('categorical', categorical_transformer, categorical_features)\n",
    "    ]\n",
    ")"
   ]
  },
  {
   "cell_type": "code",
   "execution_count": 8,
   "id": "exterior-native",
   "metadata": {
    "tags": [
     "hide"
    ]
   },
   "outputs": [],
   "source": [
    "model_rf = Pipeline(\n",
    "    steps=[\n",
    "        ('transformer', transformer),\n",
    "        ('model', RandomForestClassifier())\n",
    "    ])"
   ]
  },
  {
   "cell_type": "code",
   "execution_count": 24,
   "id": "typical-score",
   "metadata": {
    "tags": [
     "hide"
    ]
   },
   "outputs": [],
   "source": [
    "_ = model_rf.fit(X_train, y_train, )"
   ]
  },
  {
   "cell_type": "markdown",
   "id": "favorite-european",
   "metadata": {
    "tags": [
     "hide"
    ]
   },
   "source": [
    "I'll skip showing classification reports this time – as always, the prediction is perfect."
   ]
  },
  {
   "cell_type": "markdown",
   "id": "improving-characterization",
   "metadata": {},
   "source": [
    "### Ceteris Paribus Profiles\n"
   ]
  },
  {
   "cell_type": "code",
   "execution_count": 12,
   "id": "oriental-percentage",
   "metadata": {
    "tags": [
     "hide"
    ]
   },
   "outputs": [],
   "source": [
    "from ceteris_paribus.profiles import individual_variable_profile\n",
    "from ceteris_paribus.explainer import explain\n",
    "from ceteris_paribus.plots.plots import plot\n",
    "from ceteris_paribus.select_data import select_sample, select_neighbours"
   ]
  },
  {
   "cell_type": "code",
   "execution_count": 14,
   "id": "wound-portrait",
   "metadata": {
    "tags": [
     "hide"
    ]
   },
   "outputs": [],
   "source": [
    "rf_explainer = explain(model_rf, X_train.columns, X_train, y_train, \n",
    "                       predict_function=lambda x: model_rf.predict_proba(x)[::,1], label='RandomForest')"
   ]
  },
  {
   "cell_type": "code",
   "execution_count": 56,
   "id": "suited-audit",
   "metadata": {
    "tags": [
     "hide"
    ]
   },
   "outputs": [
    {
     "name": "stdout",
     "output_type": "stream",
     "text": [
      "Observation 1, label: poisonous\n"
     ]
    },
    {
     "data": {
      "text/html": [
       "\n",
       "        <iframe\n",
       "            width=\"1045\"\n",
       "            height=\"660\"\n",
       "            src=\"_plot_files/plots30.html\"\n",
       "            frameborder=\"0\"\n",
       "            allowfullscreen\n",
       "        ></iframe>\n",
       "        "
      ],
      "text/plain": [
       "<IPython.lib.display.IFrame at 0x7fe0d919dfd0>"
      ]
     },
     "metadata": {},
     "output_type": "display_data"
    }
   ],
   "source": [
    "idx = 1\n",
    "print(f'Observation {idx}, label: {\"poisonous\" if y_train[idx] else \"edible\"}')\n",
    "\n",
    "cp_profile = individual_variable_profile(\n",
    "    rf_explainer, X_train.iloc[idx], y_train[idx],\n",
    "    variables=['odor', 'gill-size']\n",
    ")\n",
    "\n",
    "\n",
    "\n",
    "plot(cp_profile, destination='notebook', height=600, width=950)"
   ]
  },
  {
   "cell_type": "code",
   "execution_count": 57,
   "id": "dried-serum",
   "metadata": {
    "tags": [
     "hide"
    ]
   },
   "outputs": [
    {
     "name": "stdout",
     "output_type": "stream",
     "text": [
      "Observation 766, label: poisonous\n"
     ]
    },
    {
     "data": {
      "text/html": [
       "\n",
       "        <iframe\n",
       "            width=\"1045\"\n",
       "            height=\"660\"\n",
       "            src=\"_plot_files/plots31.html\"\n",
       "            frameborder=\"0\"\n",
       "            allowfullscreen\n",
       "        ></iframe>\n",
       "        "
      ],
      "text/plain": [
       "<IPython.lib.display.IFrame at 0x7fe0d3db53d0>"
      ]
     },
     "metadata": {},
     "output_type": "display_data"
    }
   ],
   "source": [
    "idx = 766\n",
    "print(f'Observation {idx}, label: {\"poisonous\" if y_train[idx] else \"edible\"}')\n",
    "\n",
    "cp_profile = individual_variable_profile(\n",
    "    rf_explainer, X_train.iloc[idx], y_train[idx],\n",
    "    variables=['odor', 'gill-size']\n",
    ")\n",
    "\n",
    "\n",
    "\n",
    "plot(\n",
    "    cp_profile, \n",
    "    destination='notebook', \n",
    "    height=600, \n",
    "    width=950\n",
    ")\n",
    "\n"
   ]
  },
  {
   "cell_type": "markdown",
   "id": "fatty-white",
   "metadata": {},
   "source": [
    "Although both of these observations are labelled as poisonous, we can see that the profiles look different. \n",
    "\n",
    "For example, for the first observation, if the mushroom had no odor it would be predicted to be less poisonous, whereas for the second observation it seems all other kinds of odor would cause this behaviour. \n",
    "\n",
    "As for the gill-size, in the first observation changing gill size from narrow to broad would lower the probability of being poisonous, whereas in the second observation it would be the opposite.\n",
    "\n",
    "No we'll look at the second model – neural network from scikit-learn with default parameters."
   ]
  },
  {
   "cell_type": "code",
   "execution_count": 46,
   "id": "color-times",
   "metadata": {
    "tags": [
     "hide"
    ]
   },
   "outputs": [],
   "source": [
    "model_nn = Pipeline(\n",
    "    steps=[\n",
    "        ('transformer', transformer),\n",
    "        ('model', MLPClassifier())\n",
    "    ]\n",
    ")"
   ]
  },
  {
   "cell_type": "code",
   "execution_count": 47,
   "id": "distant-remainder",
   "metadata": {
    "tags": [
     "hide"
    ]
   },
   "outputs": [],
   "source": [
    "_ = model_nn.fit(X_train, y_train)"
   ]
  },
  {
   "cell_type": "code",
   "execution_count": 48,
   "id": "undefined-struggle",
   "metadata": {
    "tags": [
     "hide"
    ]
   },
   "outputs": [],
   "source": [
    "nn_explainer = explain(model_nn, X_train.columns, X_train, y_train, \n",
    "                       predict_function=lambda x: model_nn.predict_proba(x)[::,1], label='NeuralNet')"
   ]
  },
  {
   "cell_type": "code",
   "execution_count": 53,
   "id": "selected-rochester",
   "metadata": {
    "tags": [
     "hide"
    ]
   },
   "outputs": [
    {
     "name": "stdout",
     "output_type": "stream",
     "text": [
      "Observation 2342, label: edible\n"
     ]
    },
    {
     "data": {
      "text/html": [
       "\n",
       "        <iframe\n",
       "            width=\"1045\"\n",
       "            height=\"660\"\n",
       "            src=\"_plot_files/plots29.html\"\n",
       "            frameborder=\"0\"\n",
       "            allowfullscreen\n",
       "        ></iframe>\n",
       "        "
      ],
      "text/plain": [
       "<IPython.lib.display.IFrame at 0x7fe0d8da6f40>"
      ]
     },
     "metadata": {},
     "output_type": "display_data"
    }
   ],
   "source": [
    "# 2342\n",
    "idx = 2342\n",
    "print(f'Observation {idx}, label: {\"poisonous\" if y_train[idx] else \"edible\"}')\n",
    "\n",
    "cp_profile_rf = ceteris_paribus.profiles.individual_variable_profile(\n",
    "    rf_explainer, X_train.iloc[idx], y_train[idx],\n",
    "    variables=['odor', 'gill-size']\n",
    ")\n",
    "\n",
    "cp_profile_nn = ceteris_paribus.profiles.individual_variable_profile(\n",
    "    nn_explainer, X_train.iloc[idx], y_train[idx],\n",
    "    variables=['odor', 'gill-size']\n",
    ")\n",
    "\n",
    "\n",
    "\n",
    "ceteris_paribus.plots.plots.plot(cp_profile_rf, cp_profile_nn, destination='notebook', height=600, width=950)"
   ]
  },
  {
   "cell_type": "markdown",
   "id": "median-tucson",
   "metadata": {},
   "source": [
    "Profiles look really different for this particular observation.\n",
    "\n",
    "Changing the odor to creosote, fishy, foul, pungent or spicy would automatically make the neural net's prediction from edible to poisonous, whereas for random forest it would not.\n",
    "\n",
    "For the gill size, the behaviour is opposite – changing it from broad to narrow doesn't make a huge difference for the neural net, whereas it does for the random forest (although not so much to change the prediction).\n",
    "\n",
    "I think this is the result of the way features are used in the splitting: each time a split is done only a random subset of features is used. This ensures that it's less like for one feature to \"overpower\" the other ones.\n"
   ]
  },
  {
   "cell_type": "markdown",
   "id": "early-remedy",
   "metadata": {},
   "source": [
    "# Appendix"
   ]
  },
  {
   "cell_type": "markdown",
   "id": "ranging-snapshot",
   "metadata": {},
   "source": [
    "# Homework 4\n",
    "### Stanisław Antonowicz\n",
    "\n",
    "As with the previous homeworks, I'm using the mushroom dataset. It might not be the best one for Ceteris Paribus plots (because all features are categorical), but maybe I'll by able to draw some meaningful conclusions."
   ]
  },
  {
   "cell_type": "code",
   "execution_count": 11,
   "id": "fourth-assembly",
   "metadata": {},
   "outputs": [],
   "source": [
    "import pandas as pd\n",
    "from sklearn.ensemble import RandomForestClassifier\n",
    "from sklearn.neural_network import MLPClassifier\n",
    "from sklearn.preprocessing import OneHotEncoder, LabelEncoder\n",
    "from sklearn.model_selection import train_test_split\n",
    "from sklearn.metrics import classification_report\n",
    "from sklearn.compose import ColumnTransformer\n",
    "from sklearn.pipeline import Pipeline\n",
    "import numpy as np\n",
    "import ceteris_paribus"
   ]
  },
  {
   "cell_type": "markdown",
   "id": "measured-occasion",
   "metadata": {},
   "source": [
    "### Loading data\n",
    "\n",
    "Quick look at the data to remind us how it looks:"
   ]
  },
  {
   "cell_type": "code",
   "execution_count": 4,
   "id": "heavy-westminster",
   "metadata": {},
   "outputs": [],
   "source": [
    "data = np.genfromtxt('dataset_24_mushroom.csv', delimiter=',', dtype='<U20', skip_header=1)\n",
    "labels = data[:,-1]\n",
    "label_encoder = LabelEncoder()\n",
    "label_encoder.fit(labels)\n",
    "labels = label_encoder.transform(labels)\n",
    "class_names = label_encoder.classes_\n",
    "data = data[:,:-1]\n",
    "\n",
    "categorical_features = list(range(22))\n",
    "\n",
    "\n",
    "categorical_names = \"\"\"1. cap-shape: bell=b,conical=c,convex=x,flat=f,knobbed=k,sunken=s \n",
    "2. cap-surface: fibrous=f,grooves=g,scaly=y,smooth=s  \n",
    "3. cap-color: brown=n,buff=b,cinnamon=c,gray=g,green=r,pink=p,purple=u,red=e,white=w,yellow=y  \n",
    "4. bruises?: bruises=t,no=f  \n",
    "5. odor: almond=a,anise=l,creosote=c,fishy=y,foul=f,musty=m,none=n,pungent=p,spicy=s  \n",
    "6. gill-attachment: attached=a,descending=d,free=f,notched=n  \n",
    "7. gill-spacing: close=c,crowded=w,distant=d  \n",
    "8. gill-size: broad=b,narrow=n  \n",
    "9. gill-color: black=k,brown=n,buff=b,chocolate=h,gray=g,green=r,orange=o,pink=p,purple=u,red=e, white=w,yellow=y  \n",
    "10. stalk-shape: enlarging=e,tapering=t  \n",
    "11. stalk-root: bulbous=b,club=c,cup=u,equal=e,rhizomorphs=z,rooted=r,missing=?  \n",
    "12. stalk-surface-above-ring: fibrous=f,scaly=y,silky=k,smooth=s  \n",
    "13. stalk-surface-below-ring: fibrous=f,scaly=y,silky=k,smooth=s  \n",
    "14. stalk-color-above-ring: brown=n,buff=b,cinnamon=c,gray=g,orange=o,pink=p,red=e,white=w,yellow=y  \n",
    "15. stalk-color-below-ring: brown=n,buff=b,cinnamon=c,gray=g,orange=o,pink=p,red=e,white=w,yellow=y  \n",
    "16. veil-type: partial=p,universal=u  \n",
    "17. veil-color: brown=n,orange=o,white=w,yellow=y  \n",
    "18. ring-number: none=n,one=o,two=t  \n",
    "19. ring-type: cobwebby=c,evanescent=e,flaring=f,large=l,none=n,pendant=p,sheathing=s,zone=z  \n",
    "20. spore-print-color: black=k,brown=n,buff=b,chocolate=h,green=r,orange=o,purple=u,white=w,yellow=y  \n",
    "21. population: abundant=a,clustered=c,numerous=n,scattered=s,several=v,solitary=y  \n",
    "22. habitat: grasses=g,leaves=l,meadows=m,paths=p,urban=u,waste=w,woods=d\"\"\".split('\\n')\n",
    "\n",
    "feature_names = []\n",
    "for ind, line in enumerate(categorical_names):\n",
    "    vals = line.strip().split('. ')[1]\n",
    "    feature_name, values = vals.split(': ')\n",
    "    feature_names.append(feature_name.strip())\n",
    "    values = {x.split('=')[1]: x.split('=')[0] for x in values.split(',')}\n",
    "    data[:,ind] = np.array([values[x.strip(\"'\")] for x in data[:,ind]])\n",
    "\n",
    "data = pd.DataFrame(data)\n",
    "data.columns = feature_names"
   ]
  },
  {
   "cell_type": "code",
   "execution_count": 23,
   "id": "brazilian-agriculture",
   "metadata": {},
   "outputs": [
    {
     "data": {
      "text/html": [
       "<div>\n",
       "<style scoped>\n",
       "    .dataframe tbody tr th:only-of-type {\n",
       "        vertical-align: middle;\n",
       "    }\n",
       "\n",
       "    .dataframe tbody tr th {\n",
       "        vertical-align: top;\n",
       "    }\n",
       "\n",
       "    .dataframe thead th {\n",
       "        text-align: right;\n",
       "    }\n",
       "</style>\n",
       "<table border=\"1\" class=\"dataframe\">\n",
       "  <thead>\n",
       "    <tr style=\"text-align: right;\">\n",
       "      <th></th>\n",
       "      <th>cap-shape</th>\n",
       "      <th>cap-surface</th>\n",
       "      <th>cap-color</th>\n",
       "      <th>bruises?</th>\n",
       "      <th>odor</th>\n",
       "      <th>gill-attachment</th>\n",
       "      <th>gill-spacing</th>\n",
       "      <th>gill-size</th>\n",
       "      <th>gill-color</th>\n",
       "      <th>stalk-shape</th>\n",
       "      <th>...</th>\n",
       "      <th>stalk-surface-below-ring</th>\n",
       "      <th>stalk-color-above-ring</th>\n",
       "      <th>stalk-color-below-ring</th>\n",
       "      <th>veil-type</th>\n",
       "      <th>veil-color</th>\n",
       "      <th>ring-number</th>\n",
       "      <th>ring-type</th>\n",
       "      <th>spore-print-color</th>\n",
       "      <th>population</th>\n",
       "      <th>habitat</th>\n",
       "    </tr>\n",
       "  </thead>\n",
       "  <tbody>\n",
       "    <tr>\n",
       "      <th>0</th>\n",
       "      <td>convex</td>\n",
       "      <td>smooth</td>\n",
       "      <td>brown</td>\n",
       "      <td>bruises</td>\n",
       "      <td>pungent</td>\n",
       "      <td>free</td>\n",
       "      <td>close</td>\n",
       "      <td>narrow</td>\n",
       "      <td>black</td>\n",
       "      <td>enlarging</td>\n",
       "      <td>...</td>\n",
       "      <td>smooth</td>\n",
       "      <td>white</td>\n",
       "      <td>white</td>\n",
       "      <td>partial</td>\n",
       "      <td>white</td>\n",
       "      <td>one</td>\n",
       "      <td>pendant</td>\n",
       "      <td>black</td>\n",
       "      <td>scattered</td>\n",
       "      <td>urban</td>\n",
       "    </tr>\n",
       "    <tr>\n",
       "      <th>1</th>\n",
       "      <td>convex</td>\n",
       "      <td>smooth</td>\n",
       "      <td>yellow</td>\n",
       "      <td>bruises</td>\n",
       "      <td>almond</td>\n",
       "      <td>free</td>\n",
       "      <td>close</td>\n",
       "      <td>broad</td>\n",
       "      <td>black</td>\n",
       "      <td>enlarging</td>\n",
       "      <td>...</td>\n",
       "      <td>smooth</td>\n",
       "      <td>white</td>\n",
       "      <td>white</td>\n",
       "      <td>partial</td>\n",
       "      <td>white</td>\n",
       "      <td>one</td>\n",
       "      <td>pendant</td>\n",
       "      <td>brown</td>\n",
       "      <td>numerous</td>\n",
       "      <td>grasses</td>\n",
       "    </tr>\n",
       "    <tr>\n",
       "      <th>2</th>\n",
       "      <td>bell</td>\n",
       "      <td>smooth</td>\n",
       "      <td>white</td>\n",
       "      <td>bruises</td>\n",
       "      <td>anise</td>\n",
       "      <td>free</td>\n",
       "      <td>close</td>\n",
       "      <td>broad</td>\n",
       "      <td>brown</td>\n",
       "      <td>enlarging</td>\n",
       "      <td>...</td>\n",
       "      <td>smooth</td>\n",
       "      <td>white</td>\n",
       "      <td>white</td>\n",
       "      <td>partial</td>\n",
       "      <td>white</td>\n",
       "      <td>one</td>\n",
       "      <td>pendant</td>\n",
       "      <td>brown</td>\n",
       "      <td>numerous</td>\n",
       "      <td>meadows</td>\n",
       "    </tr>\n",
       "    <tr>\n",
       "      <th>3</th>\n",
       "      <td>convex</td>\n",
       "      <td>scaly</td>\n",
       "      <td>white</td>\n",
       "      <td>bruises</td>\n",
       "      <td>pungent</td>\n",
       "      <td>free</td>\n",
       "      <td>close</td>\n",
       "      <td>narrow</td>\n",
       "      <td>brown</td>\n",
       "      <td>enlarging</td>\n",
       "      <td>...</td>\n",
       "      <td>smooth</td>\n",
       "      <td>white</td>\n",
       "      <td>white</td>\n",
       "      <td>partial</td>\n",
       "      <td>white</td>\n",
       "      <td>one</td>\n",
       "      <td>pendant</td>\n",
       "      <td>black</td>\n",
       "      <td>scattered</td>\n",
       "      <td>urban</td>\n",
       "    </tr>\n",
       "    <tr>\n",
       "      <th>4</th>\n",
       "      <td>convex</td>\n",
       "      <td>smooth</td>\n",
       "      <td>gray</td>\n",
       "      <td>no</td>\n",
       "      <td>none</td>\n",
       "      <td>free</td>\n",
       "      <td>crowded</td>\n",
       "      <td>broad</td>\n",
       "      <td>black</td>\n",
       "      <td>tapering</td>\n",
       "      <td>...</td>\n",
       "      <td>smooth</td>\n",
       "      <td>white</td>\n",
       "      <td>white</td>\n",
       "      <td>partial</td>\n",
       "      <td>white</td>\n",
       "      <td>one</td>\n",
       "      <td>evanescent</td>\n",
       "      <td>brown</td>\n",
       "      <td>abundant</td>\n",
       "      <td>grasses</td>\n",
       "    </tr>\n",
       "    <tr>\n",
       "      <th>...</th>\n",
       "      <td>...</td>\n",
       "      <td>...</td>\n",
       "      <td>...</td>\n",
       "      <td>...</td>\n",
       "      <td>...</td>\n",
       "      <td>...</td>\n",
       "      <td>...</td>\n",
       "      <td>...</td>\n",
       "      <td>...</td>\n",
       "      <td>...</td>\n",
       "      <td>...</td>\n",
       "      <td>...</td>\n",
       "      <td>...</td>\n",
       "      <td>...</td>\n",
       "      <td>...</td>\n",
       "      <td>...</td>\n",
       "      <td>...</td>\n",
       "      <td>...</td>\n",
       "      <td>...</td>\n",
       "      <td>...</td>\n",
       "      <td>...</td>\n",
       "    </tr>\n",
       "    <tr>\n",
       "      <th>8119</th>\n",
       "      <td>knobbed</td>\n",
       "      <td>smooth</td>\n",
       "      <td>brown</td>\n",
       "      <td>no</td>\n",
       "      <td>none</td>\n",
       "      <td>attached</td>\n",
       "      <td>close</td>\n",
       "      <td>broad</td>\n",
       "      <td>yellow</td>\n",
       "      <td>enlarging</td>\n",
       "      <td>...</td>\n",
       "      <td>smooth</td>\n",
       "      <td>orange</td>\n",
       "      <td>orange</td>\n",
       "      <td>partial</td>\n",
       "      <td>orange</td>\n",
       "      <td>one</td>\n",
       "      <td>pendant</td>\n",
       "      <td>buff</td>\n",
       "      <td>clustered</td>\n",
       "      <td>leaves</td>\n",
       "    </tr>\n",
       "    <tr>\n",
       "      <th>8120</th>\n",
       "      <td>convex</td>\n",
       "      <td>smooth</td>\n",
       "      <td>brown</td>\n",
       "      <td>no</td>\n",
       "      <td>none</td>\n",
       "      <td>attached</td>\n",
       "      <td>close</td>\n",
       "      <td>broad</td>\n",
       "      <td>yellow</td>\n",
       "      <td>enlarging</td>\n",
       "      <td>...</td>\n",
       "      <td>smooth</td>\n",
       "      <td>orange</td>\n",
       "      <td>orange</td>\n",
       "      <td>partial</td>\n",
       "      <td>brown</td>\n",
       "      <td>one</td>\n",
       "      <td>pendant</td>\n",
       "      <td>buff</td>\n",
       "      <td>several</td>\n",
       "      <td>leaves</td>\n",
       "    </tr>\n",
       "    <tr>\n",
       "      <th>8121</th>\n",
       "      <td>flat</td>\n",
       "      <td>smooth</td>\n",
       "      <td>brown</td>\n",
       "      <td>no</td>\n",
       "      <td>none</td>\n",
       "      <td>attached</td>\n",
       "      <td>close</td>\n",
       "      <td>broad</td>\n",
       "      <td>brown</td>\n",
       "      <td>enlarging</td>\n",
       "      <td>...</td>\n",
       "      <td>smooth</td>\n",
       "      <td>orange</td>\n",
       "      <td>orange</td>\n",
       "      <td>partial</td>\n",
       "      <td>orange</td>\n",
       "      <td>one</td>\n",
       "      <td>pendant</td>\n",
       "      <td>buff</td>\n",
       "      <td>clustered</td>\n",
       "      <td>leaves</td>\n",
       "    </tr>\n",
       "    <tr>\n",
       "      <th>8122</th>\n",
       "      <td>knobbed</td>\n",
       "      <td>scaly</td>\n",
       "      <td>brown</td>\n",
       "      <td>no</td>\n",
       "      <td>fishy</td>\n",
       "      <td>free</td>\n",
       "      <td>close</td>\n",
       "      <td>narrow</td>\n",
       "      <td>buff</td>\n",
       "      <td>tapering</td>\n",
       "      <td>...</td>\n",
       "      <td>silky</td>\n",
       "      <td>white</td>\n",
       "      <td>white</td>\n",
       "      <td>partial</td>\n",
       "      <td>white</td>\n",
       "      <td>one</td>\n",
       "      <td>evanescent</td>\n",
       "      <td>white</td>\n",
       "      <td>several</td>\n",
       "      <td>leaves</td>\n",
       "    </tr>\n",
       "    <tr>\n",
       "      <th>8123</th>\n",
       "      <td>convex</td>\n",
       "      <td>smooth</td>\n",
       "      <td>brown</td>\n",
       "      <td>no</td>\n",
       "      <td>none</td>\n",
       "      <td>attached</td>\n",
       "      <td>close</td>\n",
       "      <td>broad</td>\n",
       "      <td>yellow</td>\n",
       "      <td>enlarging</td>\n",
       "      <td>...</td>\n",
       "      <td>smooth</td>\n",
       "      <td>orange</td>\n",
       "      <td>orange</td>\n",
       "      <td>partial</td>\n",
       "      <td>orange</td>\n",
       "      <td>one</td>\n",
       "      <td>pendant</td>\n",
       "      <td>orange</td>\n",
       "      <td>clustered</td>\n",
       "      <td>leaves</td>\n",
       "    </tr>\n",
       "  </tbody>\n",
       "</table>\n",
       "<p>8124 rows × 22 columns</p>\n",
       "</div>"
      ],
      "text/plain": [
       "     cap-shape cap-surface cap-color bruises?     odor gill-attachment  \\\n",
       "0       convex      smooth     brown  bruises  pungent            free   \n",
       "1       convex      smooth    yellow  bruises   almond            free   \n",
       "2         bell      smooth     white  bruises    anise            free   \n",
       "3       convex       scaly     white  bruises  pungent            free   \n",
       "4       convex      smooth      gray       no     none            free   \n",
       "...        ...         ...       ...      ...      ...             ...   \n",
       "8119   knobbed      smooth     brown       no     none        attached   \n",
       "8120    convex      smooth     brown       no     none        attached   \n",
       "8121      flat      smooth     brown       no     none        attached   \n",
       "8122   knobbed       scaly     brown       no    fishy            free   \n",
       "8123    convex      smooth     brown       no     none        attached   \n",
       "\n",
       "     gill-spacing gill-size gill-color stalk-shape  ...  \\\n",
       "0           close    narrow      black   enlarging  ...   \n",
       "1           close     broad      black   enlarging  ...   \n",
       "2           close     broad      brown   enlarging  ...   \n",
       "3           close    narrow      brown   enlarging  ...   \n",
       "4         crowded     broad      black    tapering  ...   \n",
       "...           ...       ...        ...         ...  ...   \n",
       "8119        close     broad     yellow   enlarging  ...   \n",
       "8120        close     broad     yellow   enlarging  ...   \n",
       "8121        close     broad      brown   enlarging  ...   \n",
       "8122        close    narrow       buff    tapering  ...   \n",
       "8123        close     broad     yellow   enlarging  ...   \n",
       "\n",
       "     stalk-surface-below-ring stalk-color-above-ring stalk-color-below-ring  \\\n",
       "0                      smooth                  white                  white   \n",
       "1                      smooth                  white                  white   \n",
       "2                      smooth                  white                  white   \n",
       "3                      smooth                  white                  white   \n",
       "4                      smooth                  white                  white   \n",
       "...                       ...                    ...                    ...   \n",
       "8119                   smooth                 orange                 orange   \n",
       "8120                   smooth                 orange                 orange   \n",
       "8121                   smooth                 orange                 orange   \n",
       "8122                    silky                  white                  white   \n",
       "8123                   smooth                 orange                 orange   \n",
       "\n",
       "     veil-type veil-color ring-number   ring-type spore-print-color  \\\n",
       "0      partial      white         one     pendant             black   \n",
       "1      partial      white         one     pendant             brown   \n",
       "2      partial      white         one     pendant             brown   \n",
       "3      partial      white         one     pendant             black   \n",
       "4      partial      white         one  evanescent             brown   \n",
       "...        ...        ...         ...         ...               ...   \n",
       "8119   partial     orange         one     pendant              buff   \n",
       "8120   partial      brown         one     pendant              buff   \n",
       "8121   partial     orange         one     pendant              buff   \n",
       "8122   partial      white         one  evanescent             white   \n",
       "8123   partial     orange         one     pendant            orange   \n",
       "\n",
       "     population  habitat  \n",
       "0     scattered    urban  \n",
       "1      numerous  grasses  \n",
       "2      numerous  meadows  \n",
       "3     scattered    urban  \n",
       "4      abundant  grasses  \n",
       "...         ...      ...  \n",
       "8119  clustered   leaves  \n",
       "8120    several   leaves  \n",
       "8121  clustered   leaves  \n",
       "8122    several   leaves  \n",
       "8123  clustered   leaves  \n",
       "\n",
       "[8124 rows x 22 columns]"
      ]
     },
     "execution_count": 23,
     "metadata": {},
     "output_type": "execute_result"
    }
   ],
   "source": [
    "data"
   ]
  },
  {
   "cell_type": "code",
   "execution_count": 6,
   "id": "established-group",
   "metadata": {},
   "outputs": [],
   "source": [
    "X_train, X_test, y_train, y_test = train_test_split(data, labels, test_size=0.2, random_state=42)"
   ]
  },
  {
   "cell_type": "code",
   "execution_count": 7,
   "id": "reliable-program",
   "metadata": {},
   "outputs": [],
   "source": [
    "categorical_features = data.columns\n",
    "categorical_transformer = Pipeline(\n",
    "    steps=[\n",
    "        ('one_hot_encoder', OneHotEncoder())\n",
    "    ]\n",
    ")\n",
    "\n",
    "\n",
    "transformer = ColumnTransformer(\n",
    "    transformers=[\n",
    "        ('categorical', categorical_transformer, categorical_features)\n",
    "    ]\n",
    ")"
   ]
  },
  {
   "cell_type": "code",
   "execution_count": 8,
   "id": "bulgarian-nancy",
   "metadata": {},
   "outputs": [],
   "source": [
    "model_rf = Pipeline(\n",
    "    steps=[\n",
    "        ('transformer', transformer),\n",
    "        ('model', RandomForestClassifier())\n",
    "    ])"
   ]
  },
  {
   "cell_type": "code",
   "execution_count": 24,
   "id": "breeding-burns",
   "metadata": {},
   "outputs": [],
   "source": [
    "_ = model_rf.fit(X_train, y_train, )"
   ]
  },
  {
   "cell_type": "markdown",
   "id": "macro-failing",
   "metadata": {},
   "source": [
    "I'll skip showing classification reports this time – as always, the prediction is perfect."
   ]
  },
  {
   "cell_type": "markdown",
   "id": "secret-retail",
   "metadata": {},
   "source": [
    "### Ceteris Paribus Profiles\n"
   ]
  },
  {
   "cell_type": "code",
   "execution_count": 12,
   "id": "wireless-closing",
   "metadata": {},
   "outputs": [],
   "source": [
    "from ceteris_paribus.profiles import individual_variable_profile\n",
    "from ceteris_paribus.explainer import explain\n",
    "from ceteris_paribus.plots.plots import plot\n",
    "from ceteris_paribus.select_data import select_sample, select_neighbours"
   ]
  },
  {
   "cell_type": "code",
   "execution_count": 14,
   "id": "gross-steam",
   "metadata": {},
   "outputs": [],
   "source": [
    "rf_explainer = explain(model_rf, X_train.columns, X_train, y_train, \n",
    "                       predict_function=lambda x: model_rf.predict_proba(x)[::,1], label='RandomForest')"
   ]
  },
  {
   "cell_type": "code",
   "execution_count": 44,
   "id": "regulated-referral",
   "metadata": {},
   "outputs": [
    {
     "name": "stdout",
     "output_type": "stream",
     "text": [
      "Observation 1, label: poisonous\n"
     ]
    },
    {
     "data": {
      "text/html": [
       "\n",
       "        <iframe\n",
       "            width=\"1045\"\n",
       "            height=\"660\"\n",
       "            src=\"_plot_files/plots23.html\"\n",
       "            frameborder=\"0\"\n",
       "            allowfullscreen\n",
       "        ></iframe>\n",
       "        "
      ],
      "text/plain": [
       "<IPython.lib.display.IFrame at 0x7fe0d91f21f0>"
      ]
     },
     "metadata": {},
     "output_type": "display_data"
    }
   ],
   "source": [
    "idx = 1\n",
    "print(f'Observation {idx}, label: {\"poisonous\" if y_train[idx] else \"edible\"}')\n",
    "\n",
    "cp_profile = individual_variable_profile(\n",
    "    rf_explainer, X_train.iloc[idx], y_train[idx],\n",
    "    variables=['odor', 'gill-size']\n",
    ")\n",
    "\n",
    "\n",
    "\n",
    "plot(cp_profile, destination='notebook', height=600, width=950)"
   ]
  },
  {
   "cell_type": "code",
   "execution_count": 45,
   "id": "sustainable-first",
   "metadata": {},
   "outputs": [
    {
     "name": "stdout",
     "output_type": "stream",
     "text": [
      "Observation 766, label: edible\n"
     ]
    },
    {
     "data": {
      "text/html": [
       "\n",
       "        <iframe\n",
       "            width=\"1045\"\n",
       "            height=\"660\"\n",
       "            src=\"_plot_files/plots24.html\"\n",
       "            frameborder=\"0\"\n",
       "            allowfullscreen\n",
       "        ></iframe>\n",
       "        "
      ],
      "text/plain": [
       "<IPython.lib.display.IFrame at 0x7fe0d919dcd0>"
      ]
     },
     "metadata": {},
     "output_type": "display_data"
    }
   ],
   "source": [
    "idx = 766\n",
    "print(f'Observation {idx}, label: {\"poisonous\" if y_train[idx] else \"edible\"}')\n",
    "\n",
    "cp_profile = individual_variable_profile(\n",
    "    rf_explainer, X_train.iloc[idx], y_train[idx],\n",
    "    variables=['odor', 'gill-size']\n",
    ")\n",
    "\n",
    "\n",
    "\n",
    "plot(\n",
    "    cp_profile, \n",
    "    destination='notebook', \n",
    "    height=600, \n",
    "    width=950\n",
    ")\n",
    "\n"
   ]
  },
  {
   "cell_type": "markdown",
   "id": "consistent-directive",
   "metadata": {},
   "source": [
    "Although both of these observations are labelled as poisonous, we can see that the profiles look different. \n",
    "\n",
    "For example, for the first observation, if the mushroom had no odor it would be predicted to be less poisonous, whereas for the second observation it seems all other kinds of odor would cause this behaviour. \n",
    "\n",
    "As for the gill-size, in the first observation changing gill size from narrow to broad would lower the probability of being poisonous, whereas in the second observation it would be the opposite.\n",
    "\n",
    "No we'll look at the second model – neural network from scikit-learn with default parameters."
   ]
  },
  {
   "cell_type": "code",
   "execution_count": 46,
   "id": "third-schema",
   "metadata": {},
   "outputs": [],
   "source": [
    "model_nn = Pipeline(\n",
    "    steps=[\n",
    "        ('transformer', transformer),\n",
    "        ('model', MLPClassifier())\n",
    "    ]\n",
    ")"
   ]
  },
  {
   "cell_type": "code",
   "execution_count": 47,
   "id": "distant-pierce",
   "metadata": {},
   "outputs": [],
   "source": [
    "_ = model_nn.fit(X_train, y_train)"
   ]
  },
  {
   "cell_type": "code",
   "execution_count": 48,
   "id": "theoretical-action",
   "metadata": {},
   "outputs": [],
   "source": [
    "nn_explainer = explain(model_nn, X_train.columns, X_train, y_train, \n",
    "                       predict_function=lambda x: model_nn.predict_proba(x)[::,1], label='NeuralNet')"
   ]
  },
  {
   "cell_type": "code",
   "execution_count": 53,
   "id": "urban-desert",
   "metadata": {},
   "outputs": [
    {
     "name": "stdout",
     "output_type": "stream",
     "text": [
      "Observation 2342, label: edible\n"
     ]
    },
    {
     "data": {
      "text/html": [
       "\n",
       "        <iframe\n",
       "            width=\"1045\"\n",
       "            height=\"660\"\n",
       "            src=\"_plot_files/plots29.html\"\n",
       "            frameborder=\"0\"\n",
       "            allowfullscreen\n",
       "        ></iframe>\n",
       "        "
      ],
      "text/plain": [
       "<IPython.lib.display.IFrame at 0x7fe0d8da6f40>"
      ]
     },
     "metadata": {},
     "output_type": "display_data"
    }
   ],
   "source": [
    "# 2342\n",
    "idx = 2342\n",
    "print(f'Observation {idx}, label: {\"poisonous\" if y_train[idx] else \"edible\"}')\n",
    "\n",
    "cp_profile_rf = ceteris_paribus.profiles.individual_variable_profile(\n",
    "    rf_explainer, X_train.iloc[idx], y_train[idx],\n",
    "    variables=['odor', 'gill-size']\n",
    ")\n",
    "\n",
    "cp_profile_nn = ceteris_paribus.profiles.individual_variable_profile(\n",
    "    nn_explainer, X_train.iloc[idx], y_train[idx],\n",
    "    variables=['odor', 'gill-size']\n",
    ")\n",
    "\n",
    "\n",
    "\n",
    "ceteris_paribus.plots.plots.plot(cp_profile_rf, cp_profile_nn, destination='notebook', height=600, width=950)"
   ]
  },
  {
   "cell_type": "markdown",
   "id": "activated-clarity",
   "metadata": {},
   "source": [
    "Profiles look really different for this particular observation.\n",
    "\n",
    "Changing the odor to creosote, fishy, foul, pungent or spicy would automatically make the neural net's prediction from edible to poisonous, whereas for random forest it would not.\n",
    "\n",
    "For the gill size, the behaviour is opposite – changing it from broad to narrow doesn't make a huge difference for the neural net, whereas it does for the random forest (although not so much to change the prediction).\n",
    "\n",
    "I think this is the result of the way features are used in the splitting: each time a split is done only a random subset of features is used. This ensures that it's less like for one feature to \"overpower\" the other ones.\n"
   ]
  },
  {
   "cell_type": "code",
   "execution_count": null,
   "id": "about-organizer",
   "metadata": {},
   "outputs": [],
   "source": []
  }
 ],
 "metadata": {
  "celltoolbar": "Tags",
  "kernelspec": {
   "display_name": "Python 3",
   "language": "python",
   "name": "python3"
  },
  "language_info": {
   "codemirror_mode": {
    "name": "ipython",
    "version": 3
   },
   "file_extension": ".py",
   "mimetype": "text/x-python",
   "name": "python",
   "nbconvert_exporter": "python",
   "pygments_lexer": "ipython3",
   "version": "3.8.8"
  }
 },
 "nbformat": 4,
 "nbformat_minor": 5
}
